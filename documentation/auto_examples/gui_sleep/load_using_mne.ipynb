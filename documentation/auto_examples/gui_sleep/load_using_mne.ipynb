{
  "cells": [
    {
      "cell_type": "markdown",
      "metadata": {},
      "source": [
        "\n# Load a file using MNE-python\n\nThis example shows how to load data using MNE-Python package.\nhttps://martinos.org/mne/stable/index.html\n\nInstall MNE-python : pip install mne\n\nA full list of supported format can be found here:\nhttps://martinos.org/mne/stable/python_reference.html#reading-raw-data\n\nRequired dataset at :\nhttps://www.dropbox.com/s/t2bo9ufvc3f8mbj/sleep_brainvision.zip?dl=1\n\n<img src=\"file://../../_static/examples/ex_LoadMNE.png\">\n"
      ]
    },
    {
      "cell_type": "code",
      "execution_count": null,
      "metadata": {
        "collapsed": false
      },
      "outputs": [],
      "source": [
        "import os\nfrom mne import io\nfrom visbrain.gui import Sleep\nfrom visbrain.io import download_file, path_to_visbrain_data"
      ]
    },
    {
      "cell_type": "markdown",
      "metadata": {},
      "source": [
        "## LOAD YOUR FILE\n Download dataset :\n\n"
      ]
    },
    {
      "cell_type": "code",
      "execution_count": null,
      "metadata": {
        "collapsed": false
      },
      "outputs": [],
      "source": [
        "download_file(\"sleep_brainvision.zip\", unzip=True, astype='example_data')\ntarget_path = path_to_visbrain_data(folder='example_data')\n\ndfile = os.path.join(target_path, 'sub-02.vhdr')\nhfile = os.path.join(target_path, 'sub-02.hyp')\n\n# Read raw data using MNE-python :\nraw = io.read_raw_brainvision(vhdr_fname=dfile, preload=True)\n\n# Extract data, sampling frequency and channels names\ndata, sf, chan = raw._data, raw.info['sfreq'], raw.info['ch_names']\n\n# Now, pass all the arguments to the Sleep module :\nSleep(data=data, sf=sf, channels=chan, hypno=hfile).show()\n\n# Alternatively, these steps can be done automatically by using the 'use_mne'\n# input argument of sleep\n# Sleep(data=dfile, hypno=hfile, use_mne=True).show()"
      ]
    }
  ],
  "metadata": {
    "kernelspec": {
      "display_name": "Python 3",
      "language": "python",
      "name": "python3"
    },
    "language_info": {
      "codemirror_mode": {
        "name": "ipython",
        "version": 3
      },
      "file_extension": ".py",
      "mimetype": "text/x-python",
      "name": "python",
      "nbconvert_exporter": "python",
      "pygments_lexer": "ipython3",
      "version": "3.13.2"
    }
  },
  "nbformat": 4,
  "nbformat_minor": 0
}