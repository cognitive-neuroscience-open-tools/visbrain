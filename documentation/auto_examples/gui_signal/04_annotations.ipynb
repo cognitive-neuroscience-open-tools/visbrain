{
  "cells": [
    {
      "cell_type": "markdown",
      "metadata": {},
      "source": [
        "\n# Import, save and add annotations\n\nImport annotations from a text file and annotate trials.\n\nAll annotations are added to the Annotations/ tab. Then, select a row of the\ntable to jump to it.\n\nDownload an example of annotation file :\nhttps://drive.google.com/file/d/0B6vtJiCQZUBvMG95RHNXbDEwaGs/view?usp=sharing\n\n<img src=\"file://../../_static/examples/ex_annotations.png\">\n"
      ]
    },
    {
      "cell_type": "code",
      "execution_count": null,
      "metadata": {
        "collapsed": false
      },
      "outputs": [],
      "source": [
        "from visbrain.gui import Signal\nfrom visbrain.utils import generate_eeg\n\nsf = 512.  # sampling frequency\nn_pts = 4000  # number of time points\nn_trials = 125  # number of trials in the dataset\n\n\"\"\"Generate a random EEG vector of shape (n_trials, n_pts). This time, we\nsmooth signals and decrease the noise on it.\n\"\"\"\ndata, _ = generate_eeg(sf=sf, n_pts=n_pts, n_trials=n_trials, smooth=200,\n                       noise=1000)\n\n\"\"\"Specify the path to the annotation file :\n\"\"\"\nannotations = 'signal_annotations.txt'\n\nSignal(data, sf=sf, axis=-1, line_lw=2., annotations=annotations).show()"
      ]
    }
  ],
  "metadata": {
    "kernelspec": {
      "display_name": "Python 3",
      "language": "python",
      "name": "python3"
    },
    "language_info": {
      "codemirror_mode": {
        "name": "ipython",
        "version": 3
      },
      "file_extension": ".py",
      "mimetype": "text/x-python",
      "name": "python",
      "nbconvert_exporter": "python",
      "pygments_lexer": "ipython3",
      "version": "3.13.2"
    }
  },
  "nbformat": 4,
  "nbformat_minor": 0
}