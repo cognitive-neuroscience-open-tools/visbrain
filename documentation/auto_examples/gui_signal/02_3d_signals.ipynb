{
  "cells": [
    {
      "cell_type": "markdown",
      "metadata": {},
      "source": [
        "\n# Plot a 3D array of data\n\nPlot and inspect a 3D array of data.\n\nThis example is an extension to the previous one (01_2d_signals.py). This time,\ninstead of automatically re-organizing the 2D grid, the program use the number\nof channels for the number of rows in the grid and the number of trials for the\nnumber of columns.\nTo illustrate this point, we generate a random EEG dataset composed with 20\nchannels, 10 trials of 4000 points each. The 2D grid will have a shape of\n(20 rows, 10 columns).\n\n<img src=\"file://../../_static/examples/ex_3d_signal.png\">\n"
      ]
    },
    {
      "cell_type": "code",
      "execution_count": null,
      "metadata": {
        "collapsed": false
      },
      "outputs": [],
      "source": [
        "from itertools import product\nfrom visbrain.gui import Signal\nfrom visbrain.utils import generate_eeg\n\nsf = 512.  # sampling frequency\nn_pts = 4000  # number of time points\nn_channels = 20  # number of EEG channels\nn_trials = 10  # number of trials in the dataset\n\n\"\"\"Generate a random EEG dataset of shape (n_channels, n_trials, n_pts).\nAlso get the associated time vector with the same length as the data.\n\"\"\"\ndata, time = generate_eeg(sf=sf, n_pts=n_pts, n_trials=n_trials,\n                          n_channels=n_channels, smooth=200, noise=1000)\ntime += 8.  # force the time vector to start at 8 seconds\ntime *= 1000.  # millisecond conversion\n\n\"\"\"The data have a shape of (20, 10, 4000). Hence, the time dimension is\ndefined as the last axis i.e `axis=2`\n\"\"\"\naxis = 2  # localization of the time axis\n\n\"\"\"Add a label to the x-axis (xlabel), y-axis (ylabel) and a title\n\"\"\"\nxlabel = 'Time (ms)'\nylabel = 'Amplitude (uV)'\ntitle = 'Plot of a 1-d signal'\n\n\"\"\"Build the title to add to each time-series in the grid\n\"\"\"\nst = 'Channel {} - trial {}'\nit = product(range(n_channels), range(n_trials))\ngtitles = [st.format(c, t) for c, t in it]  # grid titles\ngfz = 7.  # grid titles font-size\ngc = 'gray'  # grid color\n\nSignal(data, sf=sf, axis=axis, time=time, xlabel=xlabel, ylabel=ylabel,\n       title=title, grid_titles=gtitles, grid_font_size=gfz,\n       grid_color=gc).show()"
      ]
    }
  ],
  "metadata": {
    "kernelspec": {
      "display_name": "Python 3",
      "language": "python",
      "name": "python3"
    },
    "language_info": {
      "codemirror_mode": {
        "name": "ipython",
        "version": 3
      },
      "file_extension": ".py",
      "mimetype": "text/x-python",
      "name": "python",
      "nbconvert_exporter": "python",
      "pygments_lexer": "ipython3",
      "version": "3.13.2"
    }
  },
  "nbformat": 4,
  "nbformat_minor": 0
}