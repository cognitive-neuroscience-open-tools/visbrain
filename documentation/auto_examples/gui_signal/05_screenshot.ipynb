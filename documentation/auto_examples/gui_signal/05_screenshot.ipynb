{
  "cells": [
    {
      "cell_type": "markdown",
      "metadata": {},
      "source": [
        "\n# Screenshot tutorial\n\nExport all of the time-frequency maps, psd of a dataset.\n\n<img src=\"file://../../_static/examples/ex_screenshot.png\">\n"
      ]
    },
    {
      "cell_type": "code",
      "execution_count": null,
      "metadata": {
        "collapsed": false
      },
      "outputs": [],
      "source": [
        "import numpy as np\n\nfrom visbrain.gui import Signal\n\nsf = 1000.  # Sampling-frequency\nn_pts = 4000  # Number of time points\nn_sines = 10  # Number of sines\n\n\"\"\"Create artificial sines :\n\"\"\"\ntime = np.arange(n_pts) / sf\nf_sines = np.linspace(13, 30, n_sines)\ndata = np.sin(2 * np.pi * f_sines.reshape(-1, 1) * time.reshape(1, -1))\ndata += np.random.randn(*data.shape)\n\n\"\"\"Create the signal instance and pass data to it\n\"\"\"\nsig = Signal(data, axis=1, sf=sf, time=time, form='tf', tf_cmap='Spectral_r',\n             psd_nperseg=n_pts)\n\n\"\"\"Start by exporting the grid of signals.\n\"\"\"\nsig.screenshot('grid.tiff', canvas='grid', dpi=600, autocrop=True)\n\n\"\"\"Loop over all of the signals and export all time-frequency maps.\n\"\"\"\nfor k in sig:\n    # Set the signal index :\n    sig.set_signal_index(k)\n    # Set final exported image to be the power spectrum density\n    if k == n_sines - 2:\n        sig.set_signal_form('psd')\n    # Export image :\n    sig.screenshot('tf_' + str(k) + '.png', dpi=600, autocrop=True)\nsig.show()"
      ]
    }
  ],
  "metadata": {
    "kernelspec": {
      "display_name": "Python 3",
      "language": "python",
      "name": "python3"
    },
    "language_info": {
      "codemirror_mode": {
        "name": "ipython",
        "version": 3
      },
      "file_extension": ".py",
      "mimetype": "text/x-python",
      "name": "python",
      "nbconvert_exporter": "python",
      "pygments_lexer": "ipython3",
      "version": "3.13.2"
    }
  },
  "nbformat": 4,
  "nbformat_minor": 0
}