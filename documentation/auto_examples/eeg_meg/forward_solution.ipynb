{
  "cells": [
    {
      "cell_type": "markdown",
      "metadata": {},
      "source": [
        "\n# Plot forward solution\n\nPlot source estimation.\n\n<img src=\"file://../../_static/examples/ex_eegmeg_mne_forward_solution.png\">\n"
      ]
    },
    {
      "cell_type": "code",
      "execution_count": null,
      "metadata": {
        "collapsed": false
      },
      "outputs": [],
      "source": [
        "import os\n\nfrom mne.datasets import sample\nfrom visbrain.mne import mne_plot_source_estimation\n\n# Define path :\nsbj = 'sample'\nmain_path = sample.data_path()\ndata_path = os.path.join(main_path, 'MEG')\n\n# Set sbj dir path, i.e. where the FS folfers are :\nsbj_dir = os.path.join(main_path, 'subjects')\n\nparc = 'aparc'  # apar, aparc.a2009s\nfwd_fname = os.path.join(data_path, sbj, 'sample_audvis-meg-oct-6-fwd.fif')\n\n# Inverse solution file :\ninv_solution_fname = 'sample_audvis-meg-lh.stc'\ninv_solution_path = os.path.join(data_path, sbj, inv_solution_fname)\n\n# Additional inputs for BrainObj :\nkw_b_obj = dict(translucent=False)\n# Additional inputs for SourceObj :\nkw_s_obj = dict(color='blue', symbol='square')\n# Additional inputs for activations (colormap, clim...) :\nkw_activation = dict(cmap='Reds', hide_under=0., clim=(0., .6))\n\n\"\"\"Show control :\n- True -> directly display the Brain interface\n- False -> return a SourceObj and a BrainObj\n- 'scene' -> return a SceneObj\n\"\"\"\nmne_plot_source_estimation(sbj, sbj_dir, fwd_fname, stc_file=inv_solution_path,\n                           hemisphere='both', kw_activation=kw_activation,\n                           kw_brain_obj=kw_b_obj, kw_source_obj=kw_s_obj,\n                           active_data=12, show=True)"
      ]
    }
  ],
  "metadata": {
    "kernelspec": {
      "display_name": "Python 3",
      "language": "python",
      "name": "python3"
    },
    "language_info": {
      "codemirror_mode": {
        "name": "ipython",
        "version": 3
      },
      "file_extension": ".py",
      "mimetype": "text/x-python",
      "name": "python",
      "nbconvert_exporter": "python",
      "pygments_lexer": "ipython3",
      "version": "3.13.2"
    }
  },
  "nbformat": 4,
  "nbformat_minor": 0
}