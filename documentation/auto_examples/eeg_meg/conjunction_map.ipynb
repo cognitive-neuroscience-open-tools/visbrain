{
  "cells": [
    {
      "cell_type": "markdown",
      "metadata": {},
      "source": [
        "\n# Display conjunction map\n\nDisplay a conjunction map from a nii.gz file (NiBabel required).\n\nSee the original PySurfer example :\n\nhttps://pysurfer.github.io/auto_examples/plot_fmri_conjunction.html#sphx-glr-auto-examples-plot-fmri-conjunction-py\n\n<img src=\"file://../../_static/examples/ex_eegmeg_conjunction_map.png\">\n"
      ]
    },
    {
      "cell_type": "code",
      "execution_count": null,
      "metadata": {
        "collapsed": false
      },
      "outputs": [],
      "source": [
        "from visbrain.gui import Brain\nfrom visbrain.objects import BrainObj\nfrom visbrain.io import download_file\n\n\"\"\"Download files if needed\n\"\"\"\nfile_1 = download_file('lh.sig.nii.gz', astype='example_data')\nfile_2 = download_file('lh.alt_sig.nii.gz', astype='example_data')\n\nb_obj = BrainObj('inflated', translucent=False, sulcus=True)\nb_obj.add_activation(file=file_1, clim=(4., 30.), hide_under=4, cmap='Reds_r',\n                     hemisphere='left')\nb_obj.add_activation(file=file_2, clim=(4., 30.), hide_under=4, cmap='Blues_r',\n                     hemisphere='left')\n\nvb = Brain(brain_obj=b_obj)\nvb.rotate('left')\nvb.show()"
      ]
    }
  ],
  "metadata": {
    "kernelspec": {
      "display_name": "Python 3",
      "language": "python",
      "name": "python3"
    },
    "language_info": {
      "codemirror_mode": {
        "name": "ipython",
        "version": 3
      },
      "file_extension": ".py",
      "mimetype": "text/x-python",
      "name": "python",
      "nbconvert_exporter": "python",
      "pygments_lexer": "ipython3",
      "version": "3.13.2"
    }
  },
  "nbformat": 4,
  "nbformat_minor": 0
}