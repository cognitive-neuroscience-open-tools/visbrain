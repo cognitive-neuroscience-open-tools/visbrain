{
  "cells": [
    {
      "cell_type": "markdown",
      "metadata": {},
      "source": [
        "\n# Display fMRI activation\n\nDisplay fMRI activations from a nii.gz file (NiBabel required).\n\nSee the original example :\n\nhttps://pysurfer.github.io/auto_examples/plot_fmri_activation.html#sphx-glr-auto-examples-plot-fmri-activation-py\n\n<img src=\"file://../../_static/examples/ex_eegmeg_fmri_activations.png\">\n"
      ]
    },
    {
      "cell_type": "code",
      "execution_count": null,
      "metadata": {
        "collapsed": false
      },
      "outputs": [],
      "source": [
        "from visbrain.gui import Brain\nfrom visbrain.objects import BrainObj\nfrom visbrain.io import download_file\n\n\"\"\"Download file if needed\n\"\"\"\nfile = download_file('lh.sig.nii.gz', astype='example_data')\n\nb_obj = BrainObj('inflated', translucent=False, sulcus=True)\nb_obj.add_activation(file=file, clim=(5., 20.), hide_under=5, cmap='viridis',\n                     hemisphere='left')\n\nvb = Brain(brain_obj=b_obj)\nvb.rotate('left')\nvb.show()"
      ]
    }
  ],
  "metadata": {
    "kernelspec": {
      "display_name": "Python 3",
      "language": "python",
      "name": "python3"
    },
    "language_info": {
      "codemirror_mode": {
        "name": "ipython",
        "version": 3
      },
      "file_extension": ".py",
      "mimetype": "text/x-python",
      "name": "python",
      "nbconvert_exporter": "python",
      "pygments_lexer": "ipython3",
      "version": "3.13.2"
    }
  },
  "nbformat": 4,
  "nbformat_minor": 0
}