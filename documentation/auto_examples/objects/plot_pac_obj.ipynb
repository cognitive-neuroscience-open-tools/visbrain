{
  "cells": [
    {
      "cell_type": "markdown",
      "metadata": {},
      "source": [
        "\n# Phase-Amplitude Coupling (PAC)  object\n\nThe PAC measure the degree of coupling between the phase of slow oscillations\nand the amplitude of fatser oscillations. To compute PAC, you'll need to\ninstall the tensorpac package (see https://github.com/EtienneCmb/tensorpac).\n\nThe PacmapObj can be use to visualize three things :\n\n    * The comodulogram of amplitude frequencies as a function of low frequency\n      phase.\n    * The evolution of coupling across time for several frequency phase\n    * The evolution of coupling across time for several frequency amplitude\n"
      ]
    },
    {
      "cell_type": "code",
      "execution_count": null,
      "metadata": {
        "collapsed": false
      },
      "outputs": [],
      "source": [
        "import numpy as np\n\nfrom tensorpac.signals import pac_signals_wavelet\n\nfrom visbrain.objects import PacmapObj, SceneObj\n\n\"\"\"Generate artificillly coupled signals :\n- First coupling between 10hz phase with a 80hz amplitude\n- Second coupling between 5hz phase with a 100hz amplitude\n\nThe final signal is the concatenation of both\n\"\"\"\nsf = 1024.\ns_1 = pac_signals_wavelet(sf=sf, f_pha=10., f_amp=80., n_epochs=1,\n                          n_times=5000)[0]\ns_2 = pac_signals_wavelet(sf=sf, f_pha=5., f_amp=100., n_epochs=1,\n                          n_times=5000)[0]\nsig = np.c_[s_1, s_2]\n\nsc = SceneObj(size=(1200, 600))\n\nprint(\"\"\"\n# =============================================================================\n#                              Comodulogram\n# =============================================================================\n\"\"\")\npac_obj_como = PacmapObj('como', sig, sf=sf, f_pha=(2, 30, 1, .5),\n                         f_amp=(60, 150, 10, 1), interpolation='bicubic')\nsc.add_to_subplot(pac_obj_como, row=0, col=0, zoom=.9, title='Comodulogram')\n\nprint(\"\"\"\n# =============================================================================\n#                         Optimal phase frequency\n# =============================================================================\n\"\"\")\npac_pha_como = PacmapObj('como', sig, sf=sf, f_pha=(2, 30, 1, .5),\n                         f_amp=[70., 110.], n_window=500, cmap='plasma')\nsc.add_to_subplot(pac_pha_como, row=0, col=1, zoom=.9,\n                  title='Optimal phase frequency')\n\nprint(\"\"\"\n# =============================================================================\n#                         Optimal amplitude frequency\n# =============================================================================\n\"\"\")\npac_amp_como = PacmapObj('como', sig, sf=sf, f_pha=[2, 20],\n                         f_amp=(60, 150, 10, 1), n_window=500, cmap='inferno')\nsc.add_to_subplot(pac_amp_como, row=0, col=2, zoom=.9,\n                  title='Optimal amplitude frequency')\nsc.preview()"
      ]
    }
  ],
  "metadata": {
    "kernelspec": {
      "display_name": "Python 3",
      "language": "python",
      "name": "python3"
    },
    "language_info": {
      "codemirror_mode": {
        "name": "ipython",
        "version": 3
      },
      "file_extension": ".py",
      "mimetype": "text/x-python",
      "name": "python",
      "nbconvert_exporter": "python",
      "pygments_lexer": "ipython3",
      "version": "3.13.2"
    }
  },
  "nbformat": 4,
  "nbformat_minor": 0
}