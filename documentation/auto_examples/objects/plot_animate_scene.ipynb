{
  "cells": [
    {
      "cell_type": "markdown",
      "metadata": {},
      "source": [
        "\n# Animate objects in the scene\n\nThis example illustrate how to animate objects inside the scene. Note that\nanimations can only be used with 3D objects.\n"
      ]
    },
    {
      "cell_type": "code",
      "execution_count": null,
      "metadata": {
        "collapsed": false
      },
      "outputs": [],
      "source": [
        "import numpy as np\n\nfrom visbrain.objects import (BrainObj, SceneObj, SourceObj, ConnectObj)\nfrom visbrain.io import download_file"
      ]
    },
    {
      "cell_type": "markdown",
      "metadata": {},
      "source": [
        "## Download data and create the scene\n The SceneObj is Matplotlib subplot like in which, you can add visbrain's\n objects. We first create the scene with a black background, a fixed size\n\n"
      ]
    },
    {
      "cell_type": "code",
      "execution_count": null,
      "metadata": {
        "collapsed": false
      },
      "outputs": [],
      "source": [
        "# Download intracranial EEG electodes\nmat = np.load(download_file('xyz_sample.npz', astype='example_data'))\nxyz, subjects = mat['xyz'], mat['subjects']\nn_sources = xyz.shape[0]\n\n# Generate random data and random connectivity\ndata = np.random.uniform(low=-1., high=1., size=(n_sources,))\nconn = np.triu(np.random.uniform(-1., 1., (n_sources, n_sources)))\nconn_select = (-.005 < conn) & (conn < .005)\n\n# Scene creation\nsc = SceneObj()"
      ]
    },
    {
      "cell_type": "markdown",
      "metadata": {},
      "source": [
        "## Animate a single brain object\n Here we set an animation for a single brain object.\n\n"
      ]
    },
    {
      "cell_type": "code",
      "execution_count": null,
      "metadata": {
        "collapsed": false
      },
      "outputs": [],
      "source": [
        "b_obj_1 = BrainObj('inflated', translucent=False)\nb_obj_1.animate()\nsc.add_to_subplot(b_obj_1, rotate='left', title='Animate a single object')"
      ]
    },
    {
      "cell_type": "markdown",
      "metadata": {},
      "source": [
        "## Animate multiple objects\n Here we animate multiple objects inside a subplot\n\n"
      ]
    },
    {
      "cell_type": "code",
      "execution_count": null,
      "metadata": {
        "collapsed": false
      },
      "outputs": [],
      "source": [
        "s_obj_1 = SourceObj('s1', xyz, data=data)\nb_obj_2 = BrainObj('white')\nb_obj_2.animate()\n\nsc.add_to_subplot(s_obj_1, row=1, title='Animate multiple objects')\nsc.add_to_subplot(b_obj_2, row=1, rotate='right', use_this_cam=True)"
      ]
    },
    {
      "cell_type": "markdown",
      "metadata": {},
      "source": [
        "## Animate sources\n Previous subplots are using the brain object. But every 3D objects in\n Visbrain can also be animated. We illustrate this with a source object\n\n"
      ]
    },
    {
      "cell_type": "code",
      "execution_count": null,
      "metadata": {
        "collapsed": false
      },
      "outputs": [],
      "source": [
        "# Define connectivity links and sources\nc_obj_1 = ConnectObj('c1', xyz, conn, select=conn_select, dynamic=(0., 1.),\n                     dynamic_orientation='center', dynamic_order=3, cmap='bwr',\n                     antialias=True)\ns_obj_2 = SourceObj('s2', xyz, data=data, radius_min=5., radius_max=20)\ns_obj_2.color_sources(data=data, cmap='inferno')\n\n# Animate sources\ns_obj_2.animate()\n\n# Add objects to the scene\nsc.add_to_subplot(c_obj_1, col=1, title='Animate a source object')\nsc.add_to_subplot(s_obj_2, col=1, rotate='front', use_this_cam=True, zoom=.7)"
      ]
    },
    {
      "cell_type": "markdown",
      "metadata": {},
      "source": [
        "## Configure the animation rate\n Here, we configure animations so that there's a 60\u00b0 rotation update every\n second\n\n"
      ]
    },
    {
      "cell_type": "code",
      "execution_count": null,
      "metadata": {
        "collapsed": false
      },
      "outputs": [],
      "source": [
        "# Define a connectivity object and a brain object :\nc_obj_2 = ConnectObj('c1', xyz, conn, select=conn_select, dynamic=(0., 1.),\n                     dynamic_orientation='center', cmap='bwr', antialias=True)\nb_obj_3 = BrainObj('white')\n\n# Animate the brain with 10 iterations of 60\u00b0 rotation update every second\nb_obj_3.animate(iterations=10, step=60, interval=1)\n\n# Add both objects to the scene and specify that we want to use the camera of\n# the brain object\nsc.add_to_subplot(c_obj_2, row=1, col=1,\n                  title='1s refresh rate with a 60\u00b0 rotation update')\nsc.add_to_subplot(b_obj_3, row=1, col=1, rotate='front',\n                  use_this_cam=True)"
      ]
    },
    {
      "cell_type": "markdown",
      "metadata": {},
      "source": [
        "## Save the animation\n Finally, the `visbrain.objects.SceneObj.record_animation` allows to export\n animations as a gif file\n\n"
      ]
    },
    {
      "cell_type": "code",
      "execution_count": null,
      "metadata": {
        "collapsed": false
      },
      "outputs": [],
      "source": [
        "# sc.record_animation('animate_example.gif', n_pic=10)\n\nsc.preview()"
      ]
    }
  ],
  "metadata": {
    "kernelspec": {
      "display_name": "Python 3",
      "language": "python",
      "name": "python3"
    },
    "language_info": {
      "codemirror_mode": {
        "name": "ipython",
        "version": 3
      },
      "file_extension": ".py",
      "mimetype": "text/x-python",
      "name": "python",
      "nbconvert_exporter": "python",
      "pygments_lexer": "ipython3",
      "version": "3.13.2"
    }
  },
  "nbformat": 4,
  "nbformat_minor": 0
}