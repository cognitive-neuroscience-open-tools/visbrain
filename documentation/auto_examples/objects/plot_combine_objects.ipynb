{
  "cells": [
    {
      "cell_type": "markdown",
      "metadata": {},
      "source": [
        "\n# Combine multiple objects\n\nThis example illustrate the feasibility to combine multiple objects in the same\nscene.\n\nfMRI activations comes from the PySurfer software\n(https://github.com/nipy/PySurfer/).\n"
      ]
    },
    {
      "cell_type": "code",
      "execution_count": null,
      "metadata": {
        "collapsed": false
      },
      "outputs": [],
      "source": [
        "import numpy as np\n\nfrom visbrain.objects import (BrainObj, SceneObj, SourceObj, RoiObj,\n                              ConnectObj, CrossSecObj, TimeSeries3DObj,\n                              Picture3DObj)\nfrom visbrain.io import download_file\nfrom visbrain.utils import generate_eeg\n\n# Get the path to Visbrain data and download deep sources\nmat = np.load(download_file('xyz_sample.npz', astype='example_data'))\nxyz, subjects = mat['xyz'], mat['subjects']\ndata = np.random.uniform(low=-1., high=1., size=(xyz.shape[0],))"
      ]
    },
    {
      "cell_type": "markdown",
      "metadata": {},
      "source": [
        "## Scene creation\n\n"
      ]
    },
    {
      "cell_type": "code",
      "execution_count": null,
      "metadata": {
        "collapsed": false
      },
      "outputs": [],
      "source": [
        "CAM_STATE = dict(azimuth=0,        # azimuth angle\n                 elevation=90,     # elevation angle\n                 )\nCBAR_STATE = dict(cbtxtsz=12, txtsz=10., width=.1, cbtxtsh=3.,\n                  rect=(-.3, -2., 1., 4.))\nsc = SceneObj(camera_state=CAM_STATE, size=(1400, 1000))"
      ]
    },
    {
      "cell_type": "markdown",
      "metadata": {},
      "source": [
        "## fMRI activation\n\n"
      ]
    },
    {
      "cell_type": "code",
      "execution_count": null,
      "metadata": {
        "collapsed": false
      },
      "outputs": [],
      "source": [
        "file = download_file('lh.sig.nii.gz', astype='example_data')\nb_obj_fmri = BrainObj('inflated', translucent=False, sulcus=True)\nb_obj_fmri.add_activation(file=file, clim=(5., 20.), hide_under=5,\n                          cmap='viridis', hemisphere='left')\nsc.add_to_subplot(b_obj_fmri, row=0, col=0, row_span=2,\n                  title='fMRI activation', rotate='top')"
      ]
    },
    {
      "cell_type": "markdown",
      "metadata": {},
      "source": [
        "## Region Of Interest (ROI)\n\n"
      ]
    },
    {
      "cell_type": "code",
      "execution_count": null,
      "metadata": {
        "collapsed": false
      },
      "outputs": [],
      "source": [
        "roi_aal = RoiObj('aal')\nroi_aal.select_roi(select=[29, 30], unique_color=True, smooth=11)\nsc.add_to_subplot(roi_aal, row=0, col=1, title='Region Of Interest (ROI)')\nsc.add_to_subplot(BrainObj('B1'), use_this_cam=True, row=0, col=1)"
      ]
    },
    {
      "cell_type": "markdown",
      "metadata": {},
      "source": [
        "## Sources\n\n"
      ]
    },
    {
      "cell_type": "code",
      "execution_count": null,
      "metadata": {
        "collapsed": false
      },
      "outputs": [],
      "source": [
        "s_obj = SourceObj('FirstSources', xyz, data=data)\ns_obj.color_sources(data=data, cmap='Spectral_r')\nsc.add_to_subplot(s_obj, row=1, col=1, title='Sources')\nsc.add_to_subplot(BrainObj('B3'), use_this_cam=True, row=1, col=1)"
      ]
    },
    {
      "cell_type": "markdown",
      "metadata": {},
      "source": [
        "## 3D Time-series\n\n"
      ]
    },
    {
      "cell_type": "code",
      "execution_count": null,
      "metadata": {
        "collapsed": false
      },
      "outputs": [],
      "source": [
        "ts, _ = generate_eeg(n_pts=100, n_channels=xyz.shape[0])\nselect = np.zeros((xyz.shape[0],), dtype=bool)\nselect[slice(0, 100, 10)] = True\nts_obj = TimeSeries3DObj('TS3D', ts, xyz, select=select, color='pink',\n                         ts_amp=24.)\nsc.add_to_subplot(ts_obj, row=0, col=2, title='3D time series')\nsc.add_to_subplot(BrainObj('B2'), use_this_cam=True, row=0, col=2)"
      ]
    },
    {
      "cell_type": "markdown",
      "metadata": {},
      "source": [
        "## 3D Pictures\n\n"
      ]
    },
    {
      "cell_type": "code",
      "execution_count": null,
      "metadata": {
        "collapsed": false
      },
      "outputs": [],
      "source": [
        "pic = np.random.rand(xyz.shape[0], 20, 20)\npic_obj = Picture3DObj('PIC', pic, xyz, select=select, pic_width=21.,\n                       pic_height=21., cmap='viridis')\nsc.add_to_subplot(pic_obj, row=1, col=2, title='3D pictures')\nsc.add_to_subplot(BrainObj('B2'), use_this_cam=True, row=1, col=2)"
      ]
    },
    {
      "cell_type": "markdown",
      "metadata": {},
      "source": [
        "## Connectivity\n\n"
      ]
    },
    {
      "cell_type": "code",
      "execution_count": null,
      "metadata": {
        "collapsed": false
      },
      "outputs": [],
      "source": [
        "arch = np.load(download_file('phase_sync_delta.npz', astype='example_data'))\nnodes, edges = arch['nodes'], arch['edges']\nc_count = ConnectObj('default', nodes, edges, select=edges > .7,\n                     color_by='count', antialias=True, line_width=2.,\n                     dynamic=(.1, 1.))\ns_obj_c = SourceObj('sources', nodes, color='#ab4642', radius_min=5.)\nsc.add_to_subplot(c_count, row=2, col=0, row_span=2, title='3D connectivity')\nsc.add_to_subplot(s_obj_c, row=2, col=0)\nsc.add_to_subplot(BrainObj('B3'), use_this_cam=True, row=2, col=0)"
      ]
    },
    {
      "cell_type": "markdown",
      "metadata": {},
      "source": [
        "## Cross-sections\n\n"
      ]
    },
    {
      "cell_type": "code",
      "execution_count": null,
      "metadata": {
        "collapsed": false
      },
      "outputs": [],
      "source": [
        "cs_brod = CrossSecObj('brodmann', interpolation='nearest',\n                      coords=(70, 80, 90), cmap='viridis')\ncs_brod.localize_source((-10., -15., 20.))\nsc.add_to_subplot(cs_brod, row=2, col=1, col_span=2, row_span=2,\n                  title='Cross-sections')\n\n\nsc.preview()"
      ]
    }
  ],
  "metadata": {
    "kernelspec": {
      "display_name": "Python 3",
      "language": "python",
      "name": "python3"
    },
    "language_info": {
      "codemirror_mode": {
        "name": "ipython",
        "version": 3
      },
      "file_extension": ".py",
      "mimetype": "text/x-python",
      "name": "python",
      "nbconvert_exporter": "python",
      "pygments_lexer": "ipython3",
      "version": "3.13.2"
    }
  },
  "nbformat": 4,
  "nbformat_minor": 0
}