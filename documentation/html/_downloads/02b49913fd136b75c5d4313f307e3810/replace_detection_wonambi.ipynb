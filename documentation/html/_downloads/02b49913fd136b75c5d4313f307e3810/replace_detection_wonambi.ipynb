{
  "cells": [
    {
      "cell_type": "markdown",
      "metadata": {},
      "source": [
        "\n# Replace detection with wonambi algorithm\n\nThis example illustrates how to replace the default spindle detection algorithm\nwith those implemented inside wonambi.\n\nThis example uses the wonambi package. See\nhttps://wonambi-python.github.io/installation.html for a detailed installation.\n\n<div class=\"alert alert-danger\"><h4>Warning</h4><p>After running this script, just go to the Detection panel and run the\n    selected detection by clicking on Apply. The software will automatically\n    use your new detection algorithm. The Python console should confirm that\n    you're using the new method and not the default method.</p></div>\n\nRequired dataset at :\nhttps://www.dropbox.com/s/bj1ra95rbksukro/sleep_edf.zip?dl=1\n\n<img src=\"file://../../_static/examples/ex_replace_detection_wonambi.png\">\n"
      ]
    },
    {
      "cell_type": "markdown",
      "metadata": {},
      "source": [
        "## Load your file and create an instance of Sleep\n\n"
      ]
    },
    {
      "cell_type": "code",
      "execution_count": null,
      "metadata": {
        "collapsed": false
      },
      "outputs": [],
      "source": [
        "import os\nimport numpy as np\n\nfrom visbrain.gui import Sleep\nfrom visbrain.io import download_file, path_to_visbrain_data\n\nfrom wonambi.detect.spindle import DetectSpindle, detect_Moelle2011\nfrom wonambi.detect.slowwave import DetectSlowWave, detect_Massimini2004\n\n# Download the file :\ndownload_file('sleep_edf.zip', unzip=True, astype='example_data')\ntarget_path = path_to_visbrain_data(folder='example_data')\n\n# Get data path :\ndfile = os.path.join(target_path, 'excerpt2.edf')            # data\nhfile = os.path.join(target_path, 'Hypnogram_excerpt2.txt')  # hypnogram\ncfile = os.path.join(target_path, 'excerpt2_config.txt')     # GUI config\n\n# Define an instance of Sleep :\nsp = Sleep(data=dfile, hypno=hfile, config_file=cfile)"
      ]
    },
    {
      "cell_type": "markdown",
      "metadata": {},
      "source": [
        "## Define new methods\n\n"
      ]
    },
    {
      "cell_type": "markdown",
      "metadata": {},
      "source": [
        "### Spindle function\n\n"
      ]
    },
    {
      "cell_type": "code",
      "execution_count": null,
      "metadata": {
        "collapsed": false
      },
      "outputs": [],
      "source": [
        "# Define a DetectSpindle instance :\nopts_spin = DetectSpindle('Moelle2011')\n# Define the function to replace :\ndef fcn_spindle(data, sf, time, hypno):  # noqa\n    \"\"\"New spindle detection function.\n\n    See : https://wonambi-python.github.io/api/wonambi.detect.spindle.html\n    for an exhaustive list of implemented detections inside wonambi.\n    \"\"\"\n    out, _, _ = detect_Moelle2011(data, sf, time, opts_spin)\n    indices = np.zeros((len(out), 2))\n    for i, k in enumerate(out):\n        indices[i, 0] = k['start']\n        indices[i, 1] = k['end']\n    indices *= sf\n    return indices.astype(int)"
      ]
    },
    {
      "cell_type": "markdown",
      "metadata": {},
      "source": [
        "### Slow-waves function\n\n"
      ]
    },
    {
      "cell_type": "code",
      "execution_count": null,
      "metadata": {
        "collapsed": false
      },
      "outputs": [],
      "source": [
        "# Define a DetectSlowWave instance :\nopts_sw = DetectSlowWave('Massimini2004')\n# Define the function to replace :\ndef fcn_slowwave(data, sf, time, hypno):  # noqa\n    \"\"\"New slowwave detection function.\n\n    See : https://wonambi-python.github.io/api/wonambi.detect.slowwave.html\n    for an exhaustive list of implemented detections inside wonambi.\n    \"\"\"\n    out = detect_Massimini2004(data, sf, time, opts_sw)\n    indices = np.zeros((len(out), 2))\n    for i, k in enumerate(out):\n        indices[i, 0] = k['start']\n        indices[i, 1] = k['end']\n    indices *= sf\n    return indices.astype(int)"
      ]
    },
    {
      "cell_type": "markdown",
      "metadata": {},
      "source": [
        "## Replace existing methods\n Now we use the :class:`visbrain.gui.Sleep.replace_detections` method to\n overwrite existing spindles and slow-waves detections.\n\n"
      ]
    },
    {
      "cell_type": "code",
      "execution_count": null,
      "metadata": {
        "collapsed": false
      },
      "outputs": [],
      "source": [
        "# Replace the spindle detection function :\nsp.replace_detections('spindle', fcn_spindle)\n# Replace the slow-wave detection function :\nsp.replace_detections('sw', fcn_slowwave)\n\n# Finally, open the graphical user interface :\nsp.show()"
      ]
    }
  ],
  "metadata": {
    "kernelspec": {
      "display_name": "Python 3",
      "language": "python",
      "name": "python3"
    },
    "language_info": {
      "codemirror_mode": {
        "name": "ipython",
        "version": 3
      },
      "file_extension": ".py",
      "mimetype": "text/x-python",
      "name": "python",
      "nbconvert_exporter": "python",
      "pygments_lexer": "ipython3",
      "version": "3.13.2"
    }
  },
  "nbformat": 4,
  "nbformat_minor": 0
}