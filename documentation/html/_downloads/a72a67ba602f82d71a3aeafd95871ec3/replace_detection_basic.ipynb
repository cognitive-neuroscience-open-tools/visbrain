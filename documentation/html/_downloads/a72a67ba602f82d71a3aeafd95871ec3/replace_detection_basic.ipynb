{
  "cells": [
    {
      "cell_type": "markdown",
      "metadata": {},
      "source": [
        "\n# Replace detection algorithm : basic example\n\nThis example illustrates how to replace the default detection algorithm.\n\n<div class=\"alert alert-danger\"><h4>Warning</h4><p>After running this script, just go to the Detection panel and run the\n    selected detection by clicking on Apply. The software will automatically\n    use your new detection algorithm. The Python console should confirm that\n    you're using the new method and not the default method.</p></div>\n\nRequired dataset at :\nhttps://www.dropbox.com/s/bj1ra95rbksukro/sleep_edf.zip?dl=1\n\n<img src=\"file://../../_static/examples/ex_replace_detection_basic.png\">\n"
      ]
    },
    {
      "cell_type": "markdown",
      "metadata": {},
      "source": [
        "## Load your file and create an instance of Sleep\n\n"
      ]
    },
    {
      "cell_type": "code",
      "execution_count": null,
      "metadata": {
        "collapsed": false
      },
      "outputs": [],
      "source": [
        "import os\nimport numpy as np\n\nfrom visbrain.gui import Sleep\nfrom visbrain.io import download_file, path_to_visbrain_data\n\n# Download the file :\ndownload_file('sleep_edf.zip', unzip=True, astype='example_data')\ntarget_path = path_to_visbrain_data(folder='example_data')\n\n# Get data path :\ndfile = os.path.join(target_path, 'excerpt2.edf')            # data\nhfile = os.path.join(target_path, 'Hypnogram_excerpt2.txt')  # hypnogram\ncfile = os.path.join(target_path, 'excerpt2_config.txt')     # GUI config\n\n# Define an instance of Sleep :\nsp = Sleep(data=dfile, hypno=hfile, config_file=cfile)"
      ]
    },
    {
      "cell_type": "markdown",
      "metadata": {},
      "source": [
        "## Define new methods\n\n"
      ]
    },
    {
      "cell_type": "markdown",
      "metadata": {},
      "source": [
        "### Spindle function\n\n"
      ]
    },
    {
      "cell_type": "markdown",
      "metadata": {},
      "source": [
        "This function does NOT perform a real spindle detection. It's purpose is to\nshow how to replace the default detection behavior by a custom function.\nIt just highlights samples between [0, 100], [200, 300] and [400, 500].\n\n"
      ]
    },
    {
      "cell_type": "code",
      "execution_count": null,
      "metadata": {
        "collapsed": false
      },
      "outputs": [],
      "source": [
        "def fcn_spindle(data, sf, time, hypno):  # noqa\n    \"\"\"New spindle detection function.\"\"\"\n    indices = np.array([[0, 100],\n                       [200, 300],\n                       [400, 500]])\n    return indices"
      ]
    },
    {
      "cell_type": "markdown",
      "metadata": {},
      "source": [
        "### Rapid eye movement function\n\n"
      ]
    },
    {
      "cell_type": "markdown",
      "metadata": {},
      "source": [
        "This function does NOT perform a real REM detection. It illustrates how to\nreplace the default detection behavior by a basic thresholding function.\nNote that the function returns a boolean array indicating samples that are\nabove a specific threshold.\n\n"
      ]
    },
    {
      "cell_type": "code",
      "execution_count": null,
      "metadata": {
        "collapsed": false
      },
      "outputs": [],
      "source": [
        "def fcn_rem(data, sf, time, hypno):  # noqa\n    \"\"\"New REM detection function.\"\"\"\n    mean_data = np.mean(data)\n    std_data = np.std(data)\n    # Threshold is mean + 3 * STD\n    return data > mean_data + 3. * std_data"
      ]
    },
    {
      "cell_type": "markdown",
      "metadata": {},
      "source": [
        "## Replace existing methods\n Now we use the :class:`visbrain.gui.Sleep.replace_detections` method to\n overwrite existing spindles and REM detections.\n\n"
      ]
    },
    {
      "cell_type": "code",
      "execution_count": null,
      "metadata": {
        "collapsed": false
      },
      "outputs": [],
      "source": [
        "# Replace the spindle detection function :\nsp.replace_detections('spindle', fcn_spindle)\n# Replace the REM detection function :\nsp.replace_detections('rem', fcn_rem)\n\n# Finally, open the graphical user interface :\nsp.show()"
      ]
    }
  ],
  "metadata": {
    "kernelspec": {
      "display_name": "Python 3",
      "language": "python",
      "name": "python3"
    },
    "language_info": {
      "codemirror_mode": {
        "name": "ipython",
        "version": 3
      },
      "file_extension": ".py",
      "mimetype": "text/x-python",
      "name": "python",
      "nbconvert_exporter": "python",
      "pygments_lexer": "ipython3",
      "version": "3.13.2"
    }
  },
  "nbformat": 4,
  "nbformat_minor": 0
}