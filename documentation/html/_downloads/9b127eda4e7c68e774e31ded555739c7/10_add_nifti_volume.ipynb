{
  "cells": [
    {
      "cell_type": "markdown",
      "metadata": {},
      "source": [
        "\n# Add Nifti volume\n\nImport a custom Nifti volume that can be then used in the cross-section or\nvolume tab. To this end, the python package nibabel must be installed and\ncustom Nifti volume must be downloaded.\nWhen the volume is loaded into the GUI, it's accessible from the\nBrain/Cross-sections and Brain/Volume tab.\n\nThis script use a custom nifti volume downloadable at :\nhttps://brainder.org/download/flair/\n\n<img src=\"file://../../_static/examples/ex_add_nifti.png\">\n"
      ]
    },
    {
      "cell_type": "code",
      "execution_count": null,
      "metadata": {
        "collapsed": false
      },
      "outputs": [],
      "source": [
        "from __future__ import print_function\nimport numpy as np\n\nfrom visbrain.gui import Brain\nfrom visbrain.objects import VolumeObj, CrossSecObj, SourceObj\nfrom visbrain.io import download_file\n\n\"\"\"Download two NIFTI files\n\"\"\"\npath_1 = download_file('GG-853-GM-0.7mm.nii.gz', astype='example_data')\npath_2 = download_file('GG-853-WM-0.7mm.nii.gz', astype='example_data')\n\n\"\"\"Define four sources sources and a Source object\n\"\"\"\ns_xyz = np.array([[29.9, -37.3, -19.3],\n                  [-5.33, 14.00, 20.00],\n                  [25.99, 14.00, 34.66],\n                  [0., -1.99, 10.66]])\ns_obj = SourceObj('MySources', s_xyz)\n\n\"\"\"Define a volume object and a cross-section object\n\"\"\"\nvol_obj = VolumeObj(path_1)\ncross_sec_obj = CrossSecObj(path_2)\n\n\"\"\"Localize a source in the cross-section object\n\"\"\"\ncross_sec_obj.localize_source(s_xyz[2, :])\n\n\"\"\"Define a Brain instance and pass the source, volume and cross-section\nobject\n\"\"\"\nvb = Brain(source_obj=s_obj, vol_obj=vol_obj, cross_sec_obj=cross_sec_obj)\nvb.show()"
      ]
    }
  ],
  "metadata": {
    "kernelspec": {
      "display_name": "Python 3",
      "language": "python",
      "name": "python3"
    },
    "language_info": {
      "codemirror_mode": {
        "name": "ipython",
        "version": 3
      },
      "file_extension": ".py",
      "mimetype": "text/x-python",
      "name": "python",
      "nbconvert_exporter": "python",
      "pygments_lexer": "ipython3",
      "version": "3.13.2"
    }
  },
  "nbformat": 4,
  "nbformat_minor": 0
}