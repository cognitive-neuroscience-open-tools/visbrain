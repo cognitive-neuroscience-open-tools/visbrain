{
  "cells": [
    {
      "cell_type": "markdown",
      "metadata": {},
      "source": [
        "\n# Cross-sections and volume control\n\nControl the cross-section panel and the volume using a Nifti file. The nibabel\npackage should also be installed.\n\nSee : https://brainder.org/download/flair/\n\n<img src=\"file://../../_static/examples/ex_crossec_and_volume.png\">\n"
      ]
    },
    {
      "cell_type": "code",
      "execution_count": null,
      "metadata": {
        "collapsed": false
      },
      "outputs": [],
      "source": [
        "from visbrain.gui import Brain\nfrom visbrain.objects import CrossSecObj, VolumeObj\nfrom visbrain.io import download_file\n\n\"\"\"Import the volume and the associated affine transformation\n\"\"\"\nvolume_name = 'GG-853-WM-0.7mm.nii.gz'  # 'GG-853-GM-0.7mm.nii.gz'\n\n\"\"\"Download the file.\n\"\"\"\npath = download_file(volume_name, astype='example_data')\n\n\"\"\"Define a cross-section object\n\nGo to the Objects tab and select 'Cross-section' in the combo box. You can also\npress x to display the cross-section panel.\n\"\"\"\ncs_obj = CrossSecObj(path, coords=(0., 0., 0.), cmap='gist_stern')\n\n\"\"\"Define a volume object.\n\nGo to the Objects tab and select 'Volume' in the combo box. You can also\npress x to display the volume panel.\n\"\"\"\nv_obj = VolumeObj(path)\n\n\"\"\"Create the GUI and pass the cross-section and the volume object\n\"\"\"\nvb = Brain(cross_sec_obj=cs_obj, vol_obj=v_obj)\nvb.show()"
      ]
    }
  ],
  "metadata": {
    "kernelspec": {
      "display_name": "Python 3",
      "language": "python",
      "name": "python3"
    },
    "language_info": {
      "codemirror_mode": {
        "name": "ipython",
        "version": 3
      },
      "file_extension": ".py",
      "mimetype": "text/x-python",
      "name": "python",
      "nbconvert_exporter": "python",
      "pygments_lexer": "ipython3",
      "version": "3.13.2"
    }
  },
  "nbformat": 4,
  "nbformat_minor": 0
}