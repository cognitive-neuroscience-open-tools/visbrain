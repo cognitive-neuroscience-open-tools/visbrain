{
  "cells": [
    {
      "cell_type": "markdown",
      "metadata": {},
      "source": [
        "\n# Load EDF file with custom vigilance state configuration\n\nThis example demonstrate how to specify custom configuration\nfor vigilance states.\n\nRequired dataset at :\nhttps://www.dropbox.com/s/bj1ra95rbksukro/sleep_edf.zip?dl=1\n\n<img src=\"file://../../_static/examples/ex_LoadEDF.png\">\n"
      ]
    },
    {
      "cell_type": "code",
      "execution_count": null,
      "metadata": {
        "collapsed": false
      },
      "outputs": [],
      "source": [
        "import os\nimport os.path\nfrom visbrain.gui import Sleep\nfrom visbrain.io import download_file, path_to_visbrain_data"
      ]
    },
    {
      "cell_type": "markdown",
      "metadata": {},
      "source": [
        "## LOAD YOUR FILE\n\n"
      ]
    },
    {
      "cell_type": "code",
      "execution_count": null,
      "metadata": {
        "collapsed": false
      },
      "outputs": [],
      "source": [
        "download_file('sleep_edf.zip', unzip=True, astype='example_data')\ntarget_path = path_to_visbrain_data(folder='example_data')\n\ndfile = os.path.join(target_path, 'excerpt2.edf')\ncfile = os.path.join(target_path, 'excerpt2_config.txt')\n\n# Path to states_cfg yaml\nsfile = os.path.join(\n    os.path.dirname(os.path.abspath(__file__)),\n    'example_states_cfg.yml'\n)\n\n# Open the GUI :\nsleep = Sleep(data=dfile, config_file=cfile, states_config_file=sfile)\nsleep.show()"
      ]
    }
  ],
  "metadata": {
    "kernelspec": {
      "display_name": "Python 3",
      "language": "python",
      "name": "python3"
    },
    "language_info": {
      "codemirror_mode": {
        "name": "ipython",
        "version": 3
      },
      "file_extension": ".py",
      "mimetype": "text/x-python",
      "name": "python",
      "nbconvert_exporter": "python",
      "pygments_lexer": "ipython3",
      "version": "3.13.2"
    }
  },
  "nbformat": 4,
  "nbformat_minor": 0
}