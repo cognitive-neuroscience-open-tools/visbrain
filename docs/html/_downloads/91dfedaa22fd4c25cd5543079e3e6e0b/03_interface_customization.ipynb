{
  "cells": [
    {
      "cell_type": "markdown",
      "metadata": {},
      "source": [
        "\n# Interface customization\n\nUse custom color, font size...\n\n<img src=\"file://../../_static/examples/ex_custom_interface.png\">\n"
      ]
    },
    {
      "cell_type": "code",
      "execution_count": null,
      "metadata": {
        "collapsed": false
      },
      "outputs": [],
      "source": [
        "from visbrain.gui import Signal\nfrom visbrain.utils import generate_eeg\n\nsf = 512.  # sampling frequency\nn_pts = 4000  # number of time points\nn_trials = 125  # number of trials in the dataset\n\n\"\"\"Generate a random EEG vector of shape (n_trials, n_pts). This time, we\nsmooth signals and decrease the noise on it.\n\"\"\"\ndata, _ = generate_eeg(sf=sf, n_pts=n_pts, n_trials=n_trials, smooth=200,\n                       noise=1000)\n\ngtitles = ['Trial ' + str(k) for k in range(n_trials)]  # grid titles\ngfz = 8.  # grid titles font-size\n\n\"\"\"Define a dictionary with interface customization entries\n\"\"\"\nkwargs = {'xlabel': 'xlabel', 'ylabel': 'ylabel', 'title': 'title',\n          'color': 'lightgray', 'marker_symbol': 'x', 'title_font_size': 20,\n          'hist_nbins': 100, 'line_lw': 2.5, 'tf_norm': 3,\n          'tf_interp': 'nearest', 'tf_cmap': 'Spectral_r',\n          'tf_baseline': (250, 750), 'tf_av_window': 100, 'tf_av_overlap': .5,\n          'tf_clim': (-.5, .5), 'axis_font_size': 18, 'tick_font_size': 8,\n          'axis_color': 'white', 'bgcolor': (.1, .1, .1), 'form': 'marker',\n          'grid_titles': gtitles, 'grid_font_size': gfz,\n          'grid_titles_color': 'white'}\n\nsg = Signal(data, sf=sf, axis=-1, **kwargs)\nsg.show()"
      ]
    }
  ],
  "metadata": {
    "kernelspec": {
      "display_name": "Python 3",
      "language": "python",
      "name": "python3"
    },
    "language_info": {
      "codemirror_mode": {
        "name": "ipython",
        "version": 3
      },
      "file_extension": ".py",
      "mimetype": "text/x-python",
      "name": "python",
      "nbconvert_exporter": "python",
      "pygments_lexer": "ipython3",
      "version": "3.13.2"
    }
  },
  "nbformat": 4,
  "nbformat_minor": 0
}