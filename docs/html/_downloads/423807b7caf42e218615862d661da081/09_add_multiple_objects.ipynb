{
  "cells": [
    {
      "cell_type": "markdown",
      "metadata": {},
      "source": [
        "\n# Add multiple objects to the scene\n\nAdd multiple source's and connectivity object to the scene.\n\nDownload source's coordinates (xyz_sample.npz) :\nhttps://www.dropbox.com/s/whogfxutyxoir1t/xyz_sample.npz?dl=1\n\n<img src=\"file://../../_static/examples/ex_add_multiple_objects.png\">\n"
      ]
    },
    {
      "cell_type": "code",
      "execution_count": null,
      "metadata": {
        "collapsed": false
      },
      "outputs": [],
      "source": [
        "from __future__ import print_function\nimport numpy as np\n\nfrom visbrain.gui import Brain\nfrom visbrain.objects import SourceObj, ConnectObj\nfrom visbrain.io import download_file\n\nprint(__doc__)\n\n# Create an empty kwargs dictionnary :\nkwargs = {}\n\n# Load the xyz coordinates and corresponding subject name :\nmat = np.load(download_file('xyz_sample.npz', astype='example_data'))\ns_xyz, subjects = mat['xyz'], mat['subjects']\n\n\"\"\"\nSeparate source's coodinates : in this part, first we find where sources\nare in the left hemisphere, then in the right hemisphere and in front and\nfinally right hemisphere back :\n\"\"\"\ns_xyz_l = s_xyz[s_xyz[:, 0] <= 0, :]\ns_xyz_rb = s_xyz[np.logical_and(s_xyz[:, 0] > 0, s_xyz[:, 1] <= 0), :]\ns_xyz_rf = s_xyz[np.logical_and(s_xyz[:, 0] > 0, s_xyz[:, 1] > 0), :]\n\ndata_l = np.random.uniform(-10, 10, s_xyz_l.shape[0])"
      ]
    },
    {
      "cell_type": "markdown",
      "metadata": {},
      "source": [
        "## SOURCES\n\n"
      ]
    },
    {
      "cell_type": "code",
      "execution_count": null,
      "metadata": {
        "collapsed": false
      },
      "outputs": [],
      "source": [
        "\"\"\"Create a first source object with uniform red square markers\n\"\"\"\ns_obj_l = SourceObj('S_left', s_xyz_l, data=data_l, color='red',\n                    edge_color='white', symbol='disc', edge_width=2.,\n                    radius_min=10., radius_max=20., alpha=.4)\n\n\"\"\"Color the sources according to data\n\"\"\"\ns_obj_l.color_sources(data=data_l, cmap='plasma')\n\n\"\"\"Create a second source object. Then, we analyse where are located the\nsources using the AAL region of interest and used color according to gyrus\n\"\"\"\ns_obj_rb = SourceObj('S_right_back', s_xyz_rb, symbol='arrow', radius_min=20.,\n                     edge_width=0., text_color='white', text_size=1.,\n                     text_bold=True)\n\"\"\"Analyse where the source are located using the Brodmann area (BA) atlas.\nThis method returns a pandas.DataFrame\n\"\"\"\ndf = s_obj_rb.analyse_sources('brodmann')\n# print(df.keys())\n\"\"\"Then, color the sources according to the BA. Without further arguments,\nthis function use random colors for each BA :\n\"\"\"\ns_obj_rb.color_sources(df, 'brodmann')\n\"\"\"Finally, set the name of the BA for the text :\n\"\"\"\ns_obj_rb.text = df['brodmann']\n\n\"\"\"Create a third source object\n\"\"\"\ns_obj_rf = SourceObj('S_right_front', s_xyz_rf, symbol='ring', radius_min=10.,\n                     edge_width=0., alpha=.8)\n\"\"\"Analyse source's locations using the Talairach atlas\n\"\"\"\ndf = s_obj_rf.analyse_sources('talairach')\n\n\"\"\"Color source's according to the lobe location. This time we set different\ncolors to lobes :\n\"\"\"\ncustom_color = {'Frontal': 'orange', 'Temporal': 'green', 'Sub-lobar': 'red'}\ncolor_others = 'gray'  # color of every sources that are not in custom_color\nhide_others = False    # hide every sources that are not in custom_color\ns_obj_rf.color_sources(analysis=df, color_by='lobe', roi_to_color=custom_color,\n                       color_others=color_others, hide_others=hide_others)"
      ]
    },
    {
      "cell_type": "markdown",
      "metadata": {},
      "source": [
        "## CONNECTIVITY\n\n"
      ]
    },
    {
      "cell_type": "code",
      "execution_count": null,
      "metadata": {
        "collapsed": false
      },
      "outputs": [],
      "source": [
        "# Function in order to create random connection dataset for each\n# source object :\n\n\ndef create_connect(xyz, min, max):\n    \"\"\"Create connectivity dataset.\"\"\"\n    # Create a random connection dataset :\n    connect = np.random.uniform(-100., 100., (len(xyz), len(xyz)))\n    # Mask the connection aray :\n    connect = np.ma.masked_array(connect, False)\n    # Hide lower triangle :\n    connect.mask[np.tril_indices_from(connect.mask)] = True\n    # Hide connexions that are not between min and max :\n    connect.mask[np.logical_or(connect.data < min,\n                               connect.data > max)] = True\n    return connect\n\n\n\"\"\"Create two connectivity objects.\n\"\"\"\nconnect_l = create_connect(s_xyz_l, -.5, .2)\nc_obl_l = ConnectObj('C_left', s_xyz_l, connect_l, color_by='strength',\n                     dynamic=(.1, 1.), cmap='viridis', vmin=0., vmax=.1,\n                     under='gray', over='red')\n\nconnect_rb = create_connect(s_xyz_rb, -.5, .2)\nc_obj_rb = ConnectObj('C_right_back', s_xyz_rb, connect_rb, color_by='count',\n                      alpha=.7, cmap='plasma')\n\n\"\"\"Finally, open _Brain_ with those list of objects\n\"\"\"\nvb = Brain(source_obj=[s_obj_l, s_obj_rb, s_obj_rf],\n           connect_obj=[c_obl_l, c_obj_rb])\nvb.show()"
      ]
    }
  ],
  "metadata": {
    "kernelspec": {
      "display_name": "Python 3",
      "language": "python",
      "name": "python3"
    },
    "language_info": {
      "codemirror_mode": {
        "name": "ipython",
        "version": 3
      },
      "file_extension": ".py",
      "mimetype": "text/x-python",
      "name": "python",
      "nbconvert_exporter": "python",
      "pygments_lexer": "ipython3",
      "version": "3.13.2"
    }
  },
  "nbformat": 4,
  "nbformat_minor": 0
}