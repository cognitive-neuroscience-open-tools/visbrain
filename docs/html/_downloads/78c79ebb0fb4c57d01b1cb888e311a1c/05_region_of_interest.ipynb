{
  "cells": [
    {
      "cell_type": "markdown",
      "metadata": {},
      "source": [
        "\n# Add Region of interest (ROI)\n\nThis example illustrate how to display Region Of Interest (ROI).\n\nThis small dataset (thx to Tarek Lajnef) contains sources inside the thalamus\nand alpha power for each source. We are going to display the thalamus, then\nproject the source's activity on it.\n\n<img src=\"file://../../_static/examples/ex_region_of_interest.png\">\n"
      ]
    },
    {
      "cell_type": "code",
      "execution_count": null,
      "metadata": {
        "collapsed": false
      },
      "outputs": [],
      "source": [
        "from __future__ import print_function\nimport numpy as np\n\nfrom visbrain.gui import Brain\nfrom visbrain.objects import BrainObj, SourceObj, RoiObj\nfrom visbrain.io import download_file\n\n\"\"\"Download the location of sources closed to the thalamus and the power of\nalpha oscillations\n\"\"\"\nthalamus_xyz = download_file('thalamus.txt', astype='example_data')\nthalamus_data = download_file('Px.npy', astype='example_data')\ns_xyz = np.loadtxt(thalamus_xyz)\ns_data = np.load(thalamus_data).mean(1)\n\n\"\"\"Create a source object\n\"\"\"\ns_obj = SourceObj('ThalamusSources', s_xyz, data=s_data, color='#ab4642',\n                  radius_min=10., radius_max=20.)\n\n\"\"\"Create a ROI object. The ROI object comes with three default templates :\n* 'brodmann' : Brodmann areas\n* 'aal' : Automatic Anatomical Labeling\n* 'talairach'\n\nYou can also define your own RoiObj with your own labels.\n\"\"\"\nroi_obj = RoiObj('aal', cblabel=\"Alpha power\", border=False)\n\n\"\"\"Find index of the thalamus and get the mesh.\n\nIf you want to get all of the index of the ROI template use :\n* `roi_obj.get_labels()` : return a pandas DatFrame\n* `roi_obj.get_labels('/home/')` : save all supported ROI and labels in an\n  excel file.\n\"\"\"\nidx_thalamus = roi_obj.where_is('Thalamus')\nroi_obj.select_roi(idx_thalamus, smooth=5)\n\n\"\"\"Once the ROI object created, we can project source's alpha modulations\ndirectly on the thalamus\n\"\"\"\nroi_obj.project_sources(s_obj, cmap='Spectral_r', clim=(200., 2000.),\n                        vmin=300., under='gray', vmax=1800., over='darkred')\n\n\"\"\"You can also force sources to fit onto the thalamus\n\"\"\"\n# s_obj.fit_to_vertices(roi_obj.vertices)\n\n\"\"\"\n\"\"\"\nb_obj = BrainObj('B3')\n\n# Define a Brain instance :\nvb = Brain(brain_obj=b_obj, source_obj=s_obj, roi_obj=roi_obj)\n\n\"\"\"Select the colorbar of the ROI\n\"\"\"\nvb.cbar_select('roi')\n\n\"\"\"Eventualy, take a screenshot\n\"\"\"\n# vb.screenshot('thalamus.png', autocrop=True)\n\n# Show the interface :\nvb.show()"
      ]
    }
  ],
  "metadata": {
    "kernelspec": {
      "display_name": "Python 3",
      "language": "python",
      "name": "python3"
    },
    "language_info": {
      "codemirror_mode": {
        "name": "ipython",
        "version": 3
      },
      "file_extension": ".py",
      "mimetype": "text/x-python",
      "name": "python",
      "nbconvert_exporter": "python",
      "pygments_lexer": "ipython3",
      "version": "3.13.2"
    }
  },
  "nbformat": 4,
  "nbformat_minor": 0
}