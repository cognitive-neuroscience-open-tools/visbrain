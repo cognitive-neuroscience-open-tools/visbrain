{
  "cells": [
    {
      "cell_type": "markdown",
      "metadata": {},
      "source": [
        "\n# Add deep sources\n\nAdd sources to the scene. This script also illustrate most of the controls for\nsources. Each source is defined by a (x, y, z) MNI coordinate. Then, we can\nattach some data to sources and project this activity onto the surface\n(cortical projection). Alternatively, you can run the cortical repartition\nwhich is defined as the number of contributing sources per vertex.\n\n<img src=\"file://../../_static/examples/ex_sources.png\">\n"
      ]
    },
    {
      "cell_type": "code",
      "execution_count": null,
      "metadata": {
        "collapsed": false
      },
      "outputs": [],
      "source": [
        "import numpy as np\n\nfrom visbrain.gui import Brain\nfrom visbrain.objects import SourceObj, BrainObj\nfrom visbrain.io import download_file\n\nkwargs = {}\n\n\"\"\"Load the xyz coordinates and corresponding subject name\n\"\"\"\nmat = np.load(download_file('xyz_sample.npz', astype='example_data'))\nxyz, subjects = mat['xyz'], mat['subjects']\n\n\"\"\"The \"subjects\" list is composed of 6 diffrents subjects and here we set one\nunique color (u_color) per subject.\n\"\"\"\nu_color = [\"#9b59b6\", \"#3498db\", \"white\", \"#e74c3c\", \"#34495e\", \"#2ecc71\"]\nkwargs['color'] = [u_color[int(k[1])] for k in subjects]\nkwargs['alpha'] = 0.7\n\n\"\"\"\nNow we attach data to each source.\n\"\"\"\nkwargs['data'] = np.arange(len(subjects))\n\n\"\"\"The source's radius is proportional to the data attached. But this\nproportion can be controlled using a minimum and maximum radius\n(s_radiusmin, s_radiusmax)\n\"\"\"\nkwargs['radius_min'] = 2               # Minimum radius\nkwargs['radius_max'] = 15              # Maximum radius\nkwargs['edge_color'] = (1, 1, 1, 0.5)  # Color of the edges\nkwargs['edge_width'] = .5              # Width of the edges\nkwargs['symbol'] = 'square'            # Source's symbol\n\n\"\"\"\nNext, we mask source's data that are comprised between [20, 40] and color\neach source to orange\n\"\"\"\nmask = np.logical_and(kwargs['data'] >= 20., kwargs['data'] <= 40)\nkwargs['mask'] = mask\nkwargs['mask_color'] = 'gray'\n\n\"\"\"It's also possible to add text to each source. Here, we show the name of the\nsubject in yellow.\nTo avoid a superposition between the text and sources sphere, we introduce an\noffset to the text using the s_textshift input\n\"\"\"\nkwargs['text'] = subjects              # Name of the subject\nkwargs['text_color'] = \"#f39c12\"       # Set to yellow the text color\nkwargs['text_size'] = 1.5              # Size of the text\nkwargs['text_translate'] = (1.5, 1.5, 0)\nkwargs['text_bold'] = True\n\n\"\"\"Create the source object. If you want to previsualize the result without\nopening Brain, use s_obj.preview()\n\"\"\"\ns_obj = SourceObj('SourceExample', xyz, **kwargs)\n# s_obj.preview()\n\n\"\"\"Color sources according to the data\n\"\"\"\n# s_obj.color_sources(data=kwargs['data'], cmap='viridis')\n\n\"\"\"Colorbar properties\n\"\"\"\ncb_kw = dict(cblabel=\"Project source activity\", cbtxtsz=3., border=False, )\n\n\"\"\"Define a brain object with the B3 template and project source's activity\nonto the surface\n\"\"\"\nb_obj = BrainObj('B3', **cb_kw)\nb_obj.project_sources(s_obj, cmap='viridis', vmin=50., under='orange',\n                      vmax=550., over='darkred')\n\n\"\"\"Create a Brain instance and pass both of the brain and source object defined\nAfter the interface is opened, press C to display the colorbar.\n\"\"\"\nvb = Brain(source_obj=s_obj, brain_obj=b_obj)\nvb.show()"
      ]
    }
  ],
  "metadata": {
    "kernelspec": {
      "display_name": "Python 3",
      "language": "python",
      "name": "python3"
    },
    "language_info": {
      "codemirror_mode": {
        "name": "ipython",
        "version": 3
      },
      "file_extension": ".py",
      "mimetype": "text/x-python",
      "name": "python",
      "nbconvert_exporter": "python",
      "pygments_lexer": "ipython3",
      "version": "3.13.2"
    }
  },
  "nbformat": 4,
  "nbformat_minor": 0
}