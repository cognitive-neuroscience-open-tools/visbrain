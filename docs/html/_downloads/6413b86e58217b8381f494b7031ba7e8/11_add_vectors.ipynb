{
  "cells": [
    {
      "cell_type": "markdown",
      "metadata": {},
      "source": [
        "\n# Add vectors\n\nAdd vectors to the scene. This example demonstrate the two methods to defined\nvectors :\n\n    * By defining for each vector where it start and finish\n    * Using the normals to the vertices;\n\nDownload source's coordinates (xyz_sample.npz) :\nhttps://www.dropbox.com/s/whogfxutyxoir1t/xyz_sample.npz?dl=1\n\n<img src=\"file://../../_static/examples/ex_vectors.png\">\n"
      ]
    },
    {
      "cell_type": "code",
      "execution_count": null,
      "metadata": {
        "collapsed": false
      },
      "outputs": [],
      "source": [
        "import numpy as np\n\nfrom visbrain.gui import Brain\nfrom visbrain.objects import VectorObj, BrainObj, SourceObj\nfrom visbrain.io import download_file\n\nkwargs = {}\n\n\"\"\"\nLoad the xyz coordinates and corresponding subject name\n\"\"\"\nmat = np.load(download_file('xyz_sample.npz', astype='example_data'))\nxyz, subjects = mat['xyz'], mat['subjects']\n\n\"\"\"The first vector object use the position of a subset of sources as a\nstarting point. The end point of each arrow is defined as 1.3 further where the\narrow start.\n\"\"\"\nsl_1 = slice(60, 80)           # Subset of sources\narrow_start = xyz[sl_1, :]     # Positions of each arrow start\narrow_end = 1.3 * arrow_start  # Position of the end of each arrow\ndata = xyz[sl_1, 0]            # Data attached to each vctor\n\nv_obj1 = VectorObj('v1', [arrow_start, arrow_end], data=data,\n                   antialias=True, arrow_size=6., line_width=6.,\n                   arrow_type='triangle_60')\ns_obj = SourceObj('s1', xyz[sl_1, :], color='white', data=data, radius_min=10.)\n\n\"\"\"The second vector object is the symetric of the first one but this time the\ndata are inferred from the norm of each vector.\n\"\"\"\nv_obj2 = VectorObj('v2', [-arrow_start, -arrow_end], inferred_data=True,\n                   line_width=3., arrow_size=6., arrow_type='angle_90',\n                   antialias=True, cmap='inferno')\ns_obj2 = SourceObj('s2', -xyz[sl_1, :], color='red', radius_min=10)\n\n\n\"\"\"Finally, the last vector object is defined using the vertices and the\nnormals of the right hemisphere of the brain.\n\"\"\"\nb_obj = BrainObj('B2', hemisphere='right')  # Define the brain object\nn = len(b_obj)                              # Get the number of vertices\n\ndtype = [('vertices', float, 3), ('normals', float, 3)]  # Arrows dtype\narrows = np.zeros(n, dtype=dtype)                        # Empty arrows array\narrows['vertices'] = b_obj.vertices                      # Set the vertices\narrows['normals'] = b_obj.normals                        # Set the normals\n\n# For the data, we use the distance between 0 and each vertex\ndata = np.linalg.norm(b_obj.vertices, axis=1)\n# We only select vectors with a distance in [60., 60.2]\nselect = np.logical_and(data >= 60., data <= 60.2)\n\nv_obj3 = VectorObj('v3', arrows, data=data, select=select, line_width=2.,\n                   arrow_size=7., arrow_type='inhibitor_round', antialias=True,\n                   cmap='Spectral_r', vmin=60.05, under='gray')\n# Finally, re-select both brain hemispheres.\nb_obj.hemisphere = 'both'\n\nvb = Brain(brain_obj=b_obj, vector_obj=[v_obj1, v_obj2, v_obj3],\n           source_obj=[s_obj, s_obj2])\nvb.show()"
      ]
    }
  ],
  "metadata": {
    "kernelspec": {
      "display_name": "Python 3",
      "language": "python",
      "name": "python3"
    },
    "language_info": {
      "codemirror_mode": {
        "name": "ipython",
        "version": 3
      },
      "file_extension": ".py",
      "mimetype": "text/x-python",
      "name": "python",
      "nbconvert_exporter": "python",
      "pygments_lexer": "ipython3",
      "version": "3.13.2"
    }
  },
  "nbformat": 4,
  "nbformat_minor": 0
}