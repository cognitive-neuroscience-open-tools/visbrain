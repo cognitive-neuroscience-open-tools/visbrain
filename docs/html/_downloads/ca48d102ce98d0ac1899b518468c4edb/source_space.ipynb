{
  "cells": [
    {
      "cell_type": "markdown",
      "metadata": {},
      "source": [
        "\n# Plot source space\n\nPlot from a .fif file using the :class:`visbrain.mne.mne_plot_source_space`\nfunction\n\n<img src=\"file://../../_static/examples/ex_eegmeg_plot_source_space.png\">\n"
      ]
    },
    {
      "cell_type": "markdown",
      "metadata": {},
      "source": [
        "## Load .fif file in the MNE-python dataset\n\n"
      ]
    },
    {
      "cell_type": "code",
      "execution_count": null,
      "metadata": {
        "collapsed": false
      },
      "outputs": [],
      "source": [
        "import os\nimport numpy as np\n\nfrom mne.datasets import sample\n\nfrom visbrain.gui import Brain\nfrom visbrain.mne import mne_plot_source_space\n\n# Define path :\nmain_path = sample.data_path()\nsbj_dir = os.path.join(*(main_path, 'subjects', 'fsaverage', 'bem'))\n\n# fif file to load :\nfif_file = os.path.join(sbj_dir, 'fsaverage-ico-5-src.fif')"
      ]
    },
    {
      "cell_type": "markdown",
      "metadata": {},
      "source": [
        "## Active data\n Active data defined for illustration.\n\n"
      ]
    },
    {
      "cell_type": "code",
      "execution_count": null,
      "metadata": {
        "collapsed": false
      },
      "outputs": [],
      "source": [
        "active_data = np.arange(20484)"
      ]
    },
    {
      "cell_type": "markdown",
      "metadata": {},
      "source": [
        "## Additional inputs\n Additional inputs for BrainObj :\n\n"
      ]
    },
    {
      "cell_type": "code",
      "execution_count": null,
      "metadata": {
        "collapsed": false
      },
      "outputs": [],
      "source": [
        "kw_b_obj = dict(translucent=False, hemisphere='both')\n# Additional inputs for SourceObj :\nkw_s_obj = dict(color='blue', symbol='square')\n# Additional inputs for activations (colormap, clim...) :\nkw_activation = dict(cmap='viridis', hide_under=10000,\n                     clim=(active_data.min(), active_data.max()), vmax=20000,\n                     over='red')"
      ]
    },
    {
      "cell_type": "markdown",
      "metadata": {},
      "source": [
        "## Get the brain and source objects\n Note that here, we use `show=False`. In that case, a\n :class:`visbrain.objects.BrainObj` and a :class:`visbrain.objects.SourceObj`\n are returned.\n\n"
      ]
    },
    {
      "cell_type": "code",
      "execution_count": null,
      "metadata": {
        "collapsed": false
      },
      "outputs": [],
      "source": [
        "b_obj, s_obj = mne_plot_source_space(fif_file, active_data=active_data,\n                                     kw_brain_obj=kw_b_obj,\n                                     kw_source_obj=kw_s_obj,\n                                     kw_activation=kw_activation,\n                                     show=False)"
      ]
    },
    {
      "cell_type": "markdown",
      "metadata": {},
      "source": [
        "## Pass the brain and source objects to the :class:`visbrain.Brain` module\n Note that here, we pass the source object to Brain but by default we set it\n as not visible. But if you don't need to see it, simply remove the\n `source_obj=s_obj`\n\n"
      ]
    },
    {
      "cell_type": "code",
      "execution_count": null,
      "metadata": {
        "collapsed": false
      },
      "outputs": [],
      "source": [
        "s_obj.visible_obj = False\nbrain = Brain(brain_obj=b_obj, source_obj=s_obj)\nbrain.show()"
      ]
    }
  ],
  "metadata": {
    "kernelspec": {
      "display_name": "Python 3",
      "language": "python",
      "name": "python3"
    },
    "language_info": {
      "codemirror_mode": {
        "name": "ipython",
        "version": 3
      },
      "file_extension": ".py",
      "mimetype": "text/x-python",
      "name": "python",
      "nbconvert_exporter": "python",
      "pygments_lexer": "ipython3",
      "version": "3.13.2"
    }
  },
  "nbformat": 4,
  "nbformat_minor": 0
}