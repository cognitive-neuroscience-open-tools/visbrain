{
  "cells": [
    {
      "cell_type": "markdown",
      "metadata": {},
      "source": [
        "\n# Load a BrainVision file\n\nThis example demonstrate how to load a BrainVision file.\n\nRequired dataset at :\nhttps://www.dropbox.com/s/t2bo9ufvc3f8mbj/sleep_brainvision.zip?dl=1\n\n<img src=\"file://../../_static/examples/ex_LoadBrainVision.png\">\n"
      ]
    },
    {
      "cell_type": "code",
      "execution_count": null,
      "metadata": {
        "collapsed": false
      },
      "outputs": [],
      "source": [
        "import os\nfrom visbrain.gui import Sleep\nfrom visbrain.io import download_file, path_to_visbrain_data"
      ]
    },
    {
      "cell_type": "markdown",
      "metadata": {},
      "source": [
        "## LOAD YOUR FILE\n Download dataset :\n\n"
      ]
    },
    {
      "cell_type": "code",
      "execution_count": null,
      "metadata": {
        "collapsed": false
      },
      "outputs": [],
      "source": [
        "download_file(\"sleep_brainvision.zip\", unzip=True, astype='example_data')\ntarget_path = path_to_visbrain_data(folder='example_data')\n\ndfile = os.path.join(target_path, 'sub-02.vhdr')\nhfile = os.path.join(target_path, 'sub-02.hyp')\ncfile = os.path.join(target_path, 'sub-02_config.txt')\n\n# Open the GUI :\nSleep(data=dfile, hypno=hfile, config_file=cfile).show()"
      ]
    }
  ],
  "metadata": {
    "kernelspec": {
      "display_name": "Python 3",
      "language": "python",
      "name": "python3"
    },
    "language_info": {
      "codemirror_mode": {
        "name": "ipython",
        "version": 3
      },
      "file_extension": ".py",
      "mimetype": "text/x-python",
      "name": "python",
      "nbconvert_exporter": "python",
      "pygments_lexer": "ipython3",
      "version": "3.13.2"
    }
  },
  "nbformat": 4,
  "nbformat_minor": 0
}