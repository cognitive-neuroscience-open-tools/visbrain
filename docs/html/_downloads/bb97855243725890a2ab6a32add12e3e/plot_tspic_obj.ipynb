{
  "cells": [
    {
      "cell_type": "markdown",
      "metadata": {},
      "source": [
        "\n# Time-series and pictures 3D (TimeSeries3DObj & Picture3DObj): complete tutorial\n\nIllustration of the main features of 3d time-series and pictures. This\ninclude :\n\n    * Define and plot of spatially distributed time-series (TS) and pictures\n    * Masking TS and pictures\n    * Custom properties (i.e line width, colors, size...)\n"
      ]
    },
    {
      "cell_type": "code",
      "execution_count": null,
      "metadata": {
        "collapsed": false
      },
      "outputs": [],
      "source": [
        "import numpy as np\n\nfrom scipy.signal import spectrogram\n\nfrom visbrain.objects import TimeSeries3DObj, Picture3DObj, SceneObj\nfrom visbrain.utils import generate_eeg"
      ]
    },
    {
      "cell_type": "markdown",
      "metadata": {},
      "source": [
        "## Define sample data and scene\n 3D time-series and pictures need to be attached to sources define in a 3D\n space.\n\n"
      ]
    },
    {
      "cell_type": "code",
      "execution_count": null,
      "metadata": {
        "collapsed": false
      },
      "outputs": [],
      "source": [
        "# Define 5 sources\nxyz = np.array([[0, .5, 0], [1, -4, 3], [10, 2, 8], [1, 7, 12], [-4, 5, 6]])\nn_sources = xyz.shape[0]\n# Define the time-series of those 5 sources\nts_data = generate_eeg(sf=512., n_channels=n_sources, noise=5., smooth=5)[0]\n# Compute the spectrogram of the 5 time-series\npic_data = []\nfor k in range(n_sources):\n    pic_data += [spectrogram(ts_data[k, :], 512., nperseg=128, noverlap=10)[2]]\npic_data = np.asarray(pic_data)\nclim = (.01 * pic_data.min(), .01 * pic_data.max())\n\n# Scene definition\nsc = SceneObj()"
      ]
    },
    {
      "cell_type": "markdown",
      "metadata": {},
      "source": [
        "## Basic plot\n Basic plot without further customizations\n\n"
      ]
    },
    {
      "cell_type": "code",
      "execution_count": null,
      "metadata": {
        "collapsed": false
      },
      "outputs": [],
      "source": [
        "# Define time-series and picture objects\nts_0 = TimeSeries3DObj('t0', ts_data, xyz, antialias=True)\npic_0 = Picture3DObj('p0', pic_data, xyz, clim=clim)\n# Add those objects to the scene\nsc.add_to_subplot(ts_0, row=0, col=0, zoom=.2, title='Basic 3D TS plot')\nsc.add_to_subplot(pic_0, row=0, col=1, zoom=.5, title='Basic 3D pictures plot')"
      ]
    },
    {
      "cell_type": "markdown",
      "metadata": {},
      "source": [
        "## Subset selection\n Select a subset of time-series and pictures using either a list of intergers\n or booleans\n\n"
      ]
    },
    {
      "cell_type": "code",
      "execution_count": null,
      "metadata": {
        "collapsed": false
      },
      "outputs": [],
      "source": [
        "# Define a select variables using either intergers or boolean values\ns_ts = [0, 2, 4]\ns_pic = [True, False, True, False, True]\n# Define time-series and picture objects\nts_1 = TimeSeries3DObj('t1', ts_data, xyz, antialias=True, select=s_ts)\npic_1 = Picture3DObj('p1', pic_data, xyz, clim=clim, select=s_pic, cmap='bwr')\n# Add those objects to the scene\nsc.add_to_subplot(ts_1, row=1, col=0, zoom=.2, title='Select a TS subset')\nsc.add_to_subplot(pic_1, row=1, col=1, zoom=.5,\n                  title='Select a subject of pictures')"
      ]
    },
    {
      "cell_type": "markdown",
      "metadata": {},
      "source": [
        "## Shape and color properties\n Customize colors, time-series amplitude and width, pictures height and width\n\n"
      ]
    },
    {
      "cell_type": "code",
      "execution_count": null,
      "metadata": {
        "collapsed": false
      },
      "outputs": [],
      "source": [
        "# Define time-series and picture objects\nts_2 = TimeSeries3DObj('t2', ts_data, xyz, antialias=True, color='slateblue',\n                       line_width=2., ts_amp=4, ts_width=10)\npic_2 = Picture3DObj('p2', pic_data, xyz, clim=clim, cmap='Spectral_r',\n                     pic_width=10, pic_height=15)\n# Add those objects to the scene\nsc.add_to_subplot(ts_2, row=2, col=0, zoom=.2,\n                  title='Custom TS color and shape')\nsc.add_to_subplot(pic_2, row=2, col=1, zoom=.5,\n                  title='Custom picture color and shape')\n\n# Finally, display the scene\nsc.preview()"
      ]
    }
  ],
  "metadata": {
    "kernelspec": {
      "display_name": "Python 3",
      "language": "python",
      "name": "python3"
    },
    "language_info": {
      "codemirror_mode": {
        "name": "ipython",
        "version": 3
      },
      "file_extension": ".py",
      "mimetype": "text/x-python",
      "name": "python",
      "nbconvert_exporter": "python",
      "pygments_lexer": "ipython3",
      "version": "3.13.2"
    }
  },
  "nbformat": 4,
  "nbformat_minor": 0
}