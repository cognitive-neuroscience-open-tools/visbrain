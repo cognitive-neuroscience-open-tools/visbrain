{
  "cells": [
    {
      "cell_type": "markdown",
      "metadata": {},
      "source": [
        "\n# Generate pictures\n\nThis script generate some figures using the Brain module. Those exported\npictures are going to be set in a layout in the 1_LayoutExample.py script.\n"
      ]
    },
    {
      "cell_type": "code",
      "execution_count": null,
      "metadata": {
        "collapsed": false
      },
      "outputs": [],
      "source": [
        "import numpy as np\nfrom visbrain.gui import Brain\n\n\nkwargs = {}\n\n# Generate some random coordinates and data :\nN = 500   # Number of sources\nkwargs['s_xyz'] = np.random.randint(-70, 70, (N, 3))\nkwargs['s_data'] = np.random.rand(N)\nkwargs['s_radiusmin'] = 1.\nkwargs['s_radiusmax'] = 20.\n\nn_connections = 150\nrnd_selection = np.random.randint(0, N ** 2, n_connections)\nconnect = np.random.randint(0, 20, (N, N))\nmask = np.ones(N ** 2, dtype=bool)\nmask[rnd_selection] = False\nmask = mask.reshape(N, N)\nconnect = np.ma.masked_array(connect, mask=mask)\nkwargs['c_connect'] = connect\n\nkwargs['ui_bgcolor'] = 'white'\n\nvb = Brain(**kwargs)\n\n\n# ============= Sources =============\n# # Screenshot of the default view :\nvb.screenshot('default.png', autocrop=True)\n\n# Hide sources that are not in the brain :\nvb.sources_display('inside')\nvb.screenshot('inside.png', autocrop=True)\n\n# ============= Connectivity =============\n# Colorby network density :\nvb.sources_display('none')\nvb.connect_control(show=True, cmap='magma', colorby='density', clim=(0., 35.),\n                   vmin=10., vmax=30., under='gray', over='darkred',\n                   dynamic=(.7, 1.))\nvb.screenshot('density.png', autocrop=True)\n# Color by number of connections per node :\nvb.connect_control(show=True, cmap='viridis', colorby='count', clim=(1., 5.),\n                   vmin=0., vmax=10., dynamic=(.1, 1.))\nvb.screenshot('count.png', autocrop=True)\n\n# ============= Projection =============\nvb.connect_control(show=False)\nvb.sources_display('all')\nvb.cortical_repartition(cmap='viridis', clim=(1., 6.), vmin=2., under='gray',\n                        vmax=4., over='#ab4642', radius=16.)\nvb.brain_control(transparent=False)\nvb.sources_opacity(show=False)\nvb.rotate(custom=(-125., 0.))\nvb.screenshot('repartition.jpg', autocrop=True)\n\nvb.sources_display('all')\nvb.roi_control(selection=[4, 6], roi_type='Brodmann', smooth=5)\nvb.cortical_projection(project_on='roi', radius=12., cmap='inferno',\n                       clim=(.1, .5), vmin=0., vmax=6.)\nvb.sources_display('none')\nvb.brain_control(template='B3')\nvb.brain_control(transparent=True)\nvb.rotate('coronal')\nvb.screenshot('roi.jpg', autocrop=True)\n\nvb.show()"
      ]
    }
  ],
  "metadata": {
    "kernelspec": {
      "display_name": "Python 3",
      "language": "python",
      "name": "python3"
    },
    "language_info": {
      "codemirror_mode": {
        "name": "ipython",
        "version": 3
      },
      "file_extension": ".py",
      "mimetype": "text/x-python",
      "name": "python",
      "nbconvert_exporter": "python",
      "pygments_lexer": "ipython3",
      "version": "3.13.2"
    }
  },
  "nbformat": 4,
  "nbformat_minor": 0
}