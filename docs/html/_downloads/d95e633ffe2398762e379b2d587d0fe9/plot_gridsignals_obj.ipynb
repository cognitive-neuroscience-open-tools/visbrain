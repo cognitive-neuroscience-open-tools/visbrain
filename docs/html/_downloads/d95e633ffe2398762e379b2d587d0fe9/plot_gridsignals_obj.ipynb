{
  "cells": [
    {
      "cell_type": "markdown",
      "metadata": {},
      "source": [
        "\n# Grid of signals object (GridSignalsObj) : complete tutorial\n\nThis example illustrate the main functionalities and inputs of the grid of\ntime-series object i.e :\n\n  * Display 1D, 2D or 3D array\n  * Compatibility with MNE-Python objects (mne.io.Raw, mne.io.RawArray,\n    mne.Epochs)\n  * Display your data either as a grid, a single row or a single column\n\nNote that this example uses MNE-Python, hence, it need to be installed to be\nfully functional.\n"
      ]
    },
    {
      "cell_type": "code",
      "execution_count": null,
      "metadata": {
        "collapsed": false
      },
      "outputs": [],
      "source": [
        "import numpy as np\nfrom itertools import product\n\nimport mne\n\nfrom visbrain.objects import GridSignalsObj, SceneObj\nfrom visbrain.utils import generate_eeg"
      ]
    },
    {
      "cell_type": "markdown",
      "metadata": {},
      "source": [
        "## Scene creation\n The SceneObj is Matplotlib subplot like in which, you can add visbrain's\n objects. We first create the scene with a black background, a fixed size\n\n"
      ]
    },
    {
      "cell_type": "code",
      "execution_count": null,
      "metadata": {
        "collapsed": false
      },
      "outputs": [],
      "source": [
        "# Scene creation\nsc = SceneObj(bgcolor='black', size=(1400, 1000))"
      ]
    },
    {
      "cell_type": "markdown",
      "metadata": {},
      "source": [
        "## Generate random data\n Here we generate a random 3D dataset with 5 channels and 4 trials per channel\n Note that here we geneate a 3D dataset but you can also pass a 1D or 2D\n dataset\n\n"
      ]
    },
    {
      "cell_type": "code",
      "execution_count": null,
      "metadata": {
        "collapsed": false
      },
      "outputs": [],
      "source": [
        "sf = 512.       # sampling frequency\nn_pts = 1000    # number of time points\nn_channels = 5  # number of channels\nn_trials = 4    # number of trials\ndata_3d = generate_eeg(n_pts=n_pts, n_channels=n_channels, n_trials=n_trials,\n                       f_max=20., smooth=200, noise=1000)[0]\nchannels = ['Channel %i' % (k + 1) for k in range(n_channels)]\ntrials = ['Trial %i' % k for k in range(n_trials)]\n\n# Generate the titles of each signal\ntitle = ['%s - %s' % (k, i) for k, i in product(channels, trials)]\n\n# Plot the data as a grid and add it to the scene\ng_obj_grid = GridSignalsObj('3d', data_3d, title=title, plt_as='grid')\nsc.add_to_subplot(g_obj_grid, title='Grid of 3D data')"
      ]
    },
    {
      "cell_type": "markdown",
      "metadata": {},
      "source": [
        "## Plot MNE-Python data\n The GridSignalsObj is also compatible with several MNE-Python instance (i.e\n mne.io.Raw, mne.io.RawArray and mne.Epochs). Here we illustrate how to plot\n epochs in a grid.\n\n"
      ]
    },
    {
      "cell_type": "code",
      "execution_count": null,
      "metadata": {
        "collapsed": false
      },
      "outputs": [],
      "source": [
        "# Create MNE data\ndata_mne = generate_eeg(n_pts=n_pts, n_channels=n_channels, f_max=20.,\n                        smooth=200, noise=1000)[0]\n# Create info required for the definition of the RawArray\ninfo = mne.create_info(channels, sf)\n# Create a RawArray MNE instance\nmne_raw = mne.io.RawArray(data_mne, info)\n# Specify where each event start and finish\nstart = np.linspace(0, 800, 5).astype(int)\nend = np.linspace(100, 900, 5).astype(int)\nevents = np.c_[start, end, np.arange(len(start))]\n# Create a MNE Epochs instance\nepochs = mne.Epochs(mne_raw, events)\n\ng_obj_mne = GridSignalsObj('3d', epochs, plt_as='grid', color='green')\nsc.add_to_subplot(g_obj_mne, col=1, title='Plot MNE epochs as a grid')"
      ]
    },
    {
      "cell_type": "markdown",
      "metadata": {},
      "source": [
        "## Configure your plotting type\n By default, the data is plotted as a grid of signals. But this behavior can\n be modified using the `plt_as` parameter. You can use `plt_as='row'` or\n `plt_as='col'` to display your signals respectively in a unique row or column\n When you plot your data as a row or as a column, you can specify the number\n of time-series using the `n_signals` inut parameter\n\n"
      ]
    },
    {
      "cell_type": "code",
      "execution_count": null,
      "metadata": {
        "collapsed": false
      },
      "outputs": [],
      "source": [
        "plt_as = 'col'  # {'grid', 'row', 'col'}\ng_obj_col = GridSignalsObj('3d', data_3d, title=title, plt_as='col', lw=4.,\n                           title_bold=False, color='orange', n_signals=3)\n\nsc.add_to_subplot(g_obj_col, col=2, title='Plot data in a single col')\n\nsc.preview()"
      ]
    }
  ],
  "metadata": {
    "kernelspec": {
      "display_name": "Python 3",
      "language": "python",
      "name": "python3"
    },
    "language_info": {
      "codemirror_mode": {
        "name": "ipython",
        "version": 3
      },
      "file_extension": ".py",
      "mimetype": "text/x-python",
      "name": "python",
      "nbconvert_exporter": "python",
      "pygments_lexer": "ipython3",
      "version": "3.13.2"
    }
  },
  "nbformat": 4,
  "nbformat_minor": 0
}