{
  "cells": [
    {
      "cell_type": "markdown",
      "metadata": {},
      "source": [
        "\n# Add pictures\n\nThis example demonstrate how to display small pictures attached to sources. The\npictures can then be controlled from the GUI in the Sources/Pictures tab.\n\nDownload source's coordinates (xyz_sample.npz) :\nhttps://www.dropbox.com/s/whogfxutyxoir1t/xyz_sample.npz?dl=1\n\n<img src=\"file://../../_static/examples/ex_pictures.png\">\n"
      ]
    },
    {
      "cell_type": "code",
      "execution_count": null,
      "metadata": {
        "collapsed": false
      },
      "outputs": [],
      "source": [
        "import numpy as np\n\nfrom visbrain.gui import Brain\nfrom visbrain.objects import Picture3DObj, SourceObj\nfrom visbrain.io import download_file\n\nkwargs = {}\n# Load the xyz coordinates and corresponding subject name :\n\ns_xyz = np.load(download_file('xyz_sample.npz', astype='example_data'))['xyz']\ns_xyz = s_xyz[4::10, ...]\nn_sources = s_xyz.shape[0]\n\n\"\"\"Define a source object\n\"\"\"\ns_obj = SourceObj('MySources', s_xyz, symbol='disc', color='green')\n\n\"\"\"Define picture data\n\"\"\"\nsf = 1024.\nn = 50\nx, y = np.ogrid[0:n / 2, 0:n / 2]\nx, y = np.append(x, np.flip(x, 0)), np.append(y, np.flip(y, 1))\ntime = (x.reshape(-1, 1) + y.reshape(1, -1)) / sf\ntime = np.tile(time[np.newaxis, ...], (n_sources, 1, 1))\ncoef = s_xyz[:, 0].reshape(-1, 1, 1) / 2.\ndata = np.sinc(coef * 2 * np.pi * 1. * time)\ndata += .2 * np.random.rand(*data.shape)\n\n\"\"\"If you want to remove some pictures, define a pic_select array of boolean\nvalues and specify if those pictures has to be hide or displayed :\n\"\"\"\npic_select = np.ones((n_sources,), dtype=bool)\npic_to_hide = [2, 6, 10, 11, 31, 35, 41, 44, 51, 55]\npic_select[pic_to_hide] = False\nkwargs['select'] = pic_select\n\nkwargs['pic_width'] = 5.             # Width\nkwargs['pic_height'] = 5.            # Height\nkwargs['translate'] = (4., 5., 1.)   # Offset along (x, y, z) axis\nkwargs['clim'] = (.01, 1.12)         # Colorbar limits\nkwargs['cmap'] = 'viridis'           # Colormap\nkwargs['vmin'] = .1                  # Vmin\nkwargs['under'] = 'gray'             # Color under vmin\nkwargs['vmax'] = .9                  # Vmax\nkwargs['over'] = '#ab4642'           # Color over vmax\nkwargs['cblabel'] = '3D Pictures'    # Color over vmax\n\n\"\"\"Define the 3-D picture object\n\"\"\"\npic = Picture3DObj('Pic', data, s_xyz, **kwargs)\n\nvb = Brain(picture_obj=pic, source_obj=s_obj)\nvb.show()"
      ]
    }
  ],
  "metadata": {
    "kernelspec": {
      "display_name": "Python 3",
      "language": "python",
      "name": "python3"
    },
    "language_info": {
      "codemirror_mode": {
        "name": "ipython",
        "version": 3
      },
      "file_extension": ".py",
      "mimetype": "text/x-python",
      "name": "python",
      "nbconvert_exporter": "python",
      "pygments_lexer": "ipython3",
      "version": "3.13.2"
    }
  },
  "nbformat": 4,
  "nbformat_minor": 0
}