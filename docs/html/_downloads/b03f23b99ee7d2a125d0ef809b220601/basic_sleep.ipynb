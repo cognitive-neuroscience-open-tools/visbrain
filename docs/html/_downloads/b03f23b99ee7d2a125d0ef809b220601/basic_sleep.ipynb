{
  "cells": [
    {
      "cell_type": "markdown",
      "metadata": {},
      "source": [
        "\n# Basic configuration\n\nThis example demonstrate how to open Sleep.\n\nTwo windows will then appear :\n\n* The first one ask a proper dataset (required)\n* The second one ask for an hypnogram (optional). If None, an empty one is used\n\n<img src=\"file://../../_static/examples/ex_basic_sleep.png\">\n"
      ]
    },
    {
      "cell_type": "code",
      "execution_count": null,
      "metadata": {
        "collapsed": false
      },
      "outputs": [],
      "source": [
        "from visbrain.gui import Sleep\n\nSleep().show()"
      ]
    }
  ],
  "metadata": {
    "kernelspec": {
      "display_name": "Python 3",
      "language": "python",
      "name": "python3"
    },
    "language_info": {
      "codemirror_mode": {
        "name": "ipython",
        "version": 3
      },
      "file_extension": ".py",
      "mimetype": "text/x-python",
      "name": "python",
      "nbconvert_exporter": "python",
      "pygments_lexer": "ipython3",
      "version": "3.13.2"
    }
  },
  "nbformat": 4,
  "nbformat_minor": 0
}