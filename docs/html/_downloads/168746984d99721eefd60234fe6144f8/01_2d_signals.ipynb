{
  "cells": [
    {
      "cell_type": "markdown",
      "metadata": {},
      "source": [
        "\n# Plot a 2D array of data\n\nDispose a two dimensional array of data into a grid.\n\nIn this example, we generate a dataset of EEG signals composed with 125 trials\nof 4000 time points each.\nAfter opening the interface, you should notice two layouts :\n\n* The first one, on the left composed with a grid of all of the 125 signals.\n  To be readable, the grid is re-arranged in a 25 rows by 5 columns of signals.\n  The first signal (0) is localized in the bottom left corner. The last signal\n  (125) is localized in the upper right corner. Finally, double click on a\n  signal to enlarge it.\n* The right panel can only display one signal but offer multiple plotting\n  forms (line, marker, histogram, time-frequency map, PSD)\n\n## Shortcuts\n\n* Mouse wheel on the grid canvas : zoom\n* Mouse press and hold : move the center of the camera\n* Double click on the grid canvas (left) to enlarge the signal\n* Double click on the signal canvas (right) to insert annotations\n* Press <delete> on both to reset the camera\n\n<img src=\"file://../../_static/examples/ex_2d_signal.png\">\n"
      ]
    },
    {
      "cell_type": "code",
      "execution_count": null,
      "metadata": {
        "collapsed": false
      },
      "outputs": [],
      "source": [
        "from visbrain.gui import Signal\nfrom visbrain.utils import generate_eeg\n\nsf = 512.       # sampling frequency\nn_pts = 4000    # number of time points\nn_trials = 120  # number of trials in the dataset\n\n\"\"\"Generate a random EEG dataset of shape (n_trials, n_pts). Also get the\nassociated time vector with the same length as the data.\n\"\"\"\ndata, time = generate_eeg(sf=sf, n_pts=n_pts, n_trials=n_trials, smooth=200,\n                          noise=100)\ntime += 8.  # force the time vector to start at 8 seconds\ntime *= 1000.  # millisecond conversion\n\n\"\"\"The data have a shape of (125 channels, 4000 time points). In order to work,\nthe program need to know that the time axis is not the first dimension. Hence,\nwe use the `axis` parameter to specify that the time axis is the second one\n`axis=1`\n\"\"\"\naxis = 1  # localization of the time axis\n\n\"\"\"Add a label to the x-axis (xlabel), y-axis (ylabel) and a title\n\"\"\"\nxlabel = 'Time (ms)'\nylabel = 'Amplitude (uV)'\ntitle = 'Plot of a 1-d signal'\n\n\"\"\"Build the title to add to each time-series in the grid\n\"\"\"\ngtitles = ['Trial ' + str(k) for k in range(n_trials)]  # grid titles\ngfz = 8.  # grid titles font-size\nglw = 2.  # grid line width\n\nSignal(data, sf=sf, axis=axis, time=time, xlabel=xlabel, ylabel=ylabel,\n       title=title, grid_titles=gtitles, grid_font_size=gfz,\n       grid_lw=glw).show()"
      ]
    }
  ],
  "metadata": {
    "kernelspec": {
      "display_name": "Python 3",
      "language": "python",
      "name": "python3"
    },
    "language_info": {
      "codemirror_mode": {
        "name": "ipython",
        "version": 3
      },
      "file_extension": ".py",
      "mimetype": "text/x-python",
      "name": "python",
      "nbconvert_exporter": "python",
      "pygments_lexer": "ipython3",
      "version": "3.13.2"
    }
  },
  "nbformat": 4,
  "nbformat_minor": 0
}