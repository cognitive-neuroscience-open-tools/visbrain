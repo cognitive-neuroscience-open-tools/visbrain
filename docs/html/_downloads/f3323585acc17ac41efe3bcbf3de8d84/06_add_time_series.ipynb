{
  "cells": [
    {
      "cell_type": "markdown",
      "metadata": {},
      "source": [
        "\n# Add time series\n\nThis example demonstrate how to display time-series attached to sources. The\ntime-series can then be controlled from the GUI in the Sources/Time-series tab.\n\nDownload source's coordinates (xyz_sample.npz) :\nhttps://www.dropbox.com/s/whogfxutyxoir1t/xyz_sample.npz?dl=1\n\n<img src=\"file://../../_static/examples/ex_time_series.png\">\n"
      ]
    },
    {
      "cell_type": "code",
      "execution_count": null,
      "metadata": {
        "collapsed": false
      },
      "outputs": [],
      "source": [
        "import numpy as np\n\nfrom visbrain.gui import Brain\nfrom visbrain.objects import TimeSeries3DObj, SourceObj\nfrom visbrain.io import download_file\n\n# Load the xyz coordinates and corresponding subject name :\n\ns_xyz = np.load(download_file('xyz_sample.npz', astype='example_data'))['xyz']\ns_xyz = s_xyz[4::25, ...]\ns_text = [str(k) for k in range(s_xyz.shape[0])]\ns_textsize = 1.5\n\n\"\"\"Define a source object\n\"\"\"\ns_obj = SourceObj('MySources', s_xyz, symbol='disc', color='green')\n\n\"\"\"Define the time-series data\n\"\"\"\nsf = 512.                   # Sampling frequency\nn_time_points = 700         # Number of time points\nn_sources = s_xyz.shape[0]  # Number of sources\ntime = np.mgrid[0:n_sources, 0:n_time_points][1] / sf  # Time vector\n# Randomize the amplitude and the phase of sine :\namp = np.random.randint(2, 20, n_sources).reshape(-1, 1)\npha = np.random.randint(1, 7, n_sources).reshape(-1, 1)\n# Build the time series of shape (n_sources, n_time_points) :\nts_data = amp * np.sin(2 * np.pi * pha * time)\nts_data += np.random.randn(n_sources, n_time_points)\n\n# Use a boolean vector to hide/display time-series :\nts_to_mask = [5, 7, 11, 3, 14, 17, 22, 23]\nts_select = np.ones((s_xyz.shape[0],), dtype=bool)\nts_select[ts_to_mask] = False\n\n# Time-series (TS) graphical properties :\nts_amp = 5.4            # TS graphical amplitude\nts_width = 15.7         # TS graphical width\nts_color = 'orange'     # TS color\nts_dxyz = (1., 2., 5.)  # TS offset along the (x, y, z) axes\nts_lw = 2.2             # TS line-width\n\n\"\"\"Define the 3-D time-series object\n\"\"\"\nts = TimeSeries3DObj('Ts1', ts_data, s_xyz, select=ts_select, ts_amp=ts_amp,\n                     ts_width=ts_width, line_width=ts_lw, translate=ts_dxyz,\n                     color=ts_color)\n\nvb = Brain(time_series_obj=ts, source_obj=s_obj)\nvb.show()"
      ]
    }
  ],
  "metadata": {
    "kernelspec": {
      "display_name": "Python 3",
      "language": "python",
      "name": "python3"
    },
    "language_info": {
      "codemirror_mode": {
        "name": "ipython",
        "version": 3
      },
      "file_extension": ".py",
      "mimetype": "text/x-python",
      "name": "python",
      "nbconvert_exporter": "python",
      "pygments_lexer": "ipython3",
      "version": "3.13.2"
    }
  },
  "nbformat": 4,
  "nbformat_minor": 0
}