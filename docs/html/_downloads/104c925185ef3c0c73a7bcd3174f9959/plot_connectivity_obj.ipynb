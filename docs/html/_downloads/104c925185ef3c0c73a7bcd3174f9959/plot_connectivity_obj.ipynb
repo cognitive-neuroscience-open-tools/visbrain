{
  "cells": [
    {
      "cell_type": "markdown",
      "metadata": {},
      "source": [
        "\n# Connectivity object (ConnectObj) : complete tutorial\n\nIllustration of the main functionalities and inputs of the connectivity object:\n\n    * Color connectivity links according to connectivity strength\n    * Color connectivity links according to the number of connections per node\n    * Color connectivity links using custom colors\n"
      ]
    },
    {
      "cell_type": "code",
      "execution_count": null,
      "metadata": {
        "collapsed": false
      },
      "outputs": [],
      "source": [
        "import numpy as np\n\nfrom visbrain.objects import ConnectObj, SceneObj, SourceObj, BrainObj\nfrom visbrain.io import download_file"
      ]
    },
    {
      "cell_type": "markdown",
      "metadata": {},
      "source": [
        "## Download data and define the scene\n First, we download a connectivity dataset consisting of the location of each\n node (104) and the connectivity strength between every node (104, 104)\n\n"
      ]
    },
    {
      "cell_type": "code",
      "execution_count": null,
      "metadata": {
        "collapsed": false
      },
      "outputs": [],
      "source": [
        "# Download data\narch = np.load(download_file('phase_sync_delta.npz', astype='example_data'))\nnodes, edges = arch['nodes'], arch['edges']\n# Create the scene with a black background\nsc = SceneObj(size=(1500, 600))"
      ]
    },
    {
      "cell_type": "markdown",
      "metadata": {},
      "source": [
        "## Color by connectivity strength\n First, we download a connectivity dataset consisting of the location of each\n node (iEEG site) and the connectivity strength between those nodes. The first\n coloring method illustrated bellow consist in coloring connections based on\n a colormap\n\n"
      ]
    },
    {
      "cell_type": "code",
      "execution_count": null,
      "metadata": {
        "collapsed": false
      },
      "outputs": [],
      "source": [
        "# Coloring method\ncolor_by = 'strength'\n# Because we don't want to plot every connections, we only keep connections\n# above .7\nselect = edges > .7\n# Define the connectivity object\nc_default = ConnectObj('default', nodes, edges, select=select, line_width=2.,\n                       cmap='Spectral_r', color_by=color_by)\n# Then, we define the sources\ns_obj = SourceObj('sources', nodes, color='#ab4642', radius_min=15.)\nsc.add_to_subplot(c_default, title='Color by connectivity strength')\n# And add connect, source and brain objects to the scene\nsc.add_to_subplot(s_obj)\nsc.add_to_subplot(BrainObj('B3'), use_this_cam=True)"
      ]
    },
    {
      "cell_type": "markdown",
      "metadata": {},
      "source": [
        "## Color by number of connections per node\n The next coloring method consist in set a color according to the number of\n connections per node. Here, we also illustrate that colors can also by\n `dynamic` (i.e stronger connections are opaque and weak connections are more\n translucent)\n\n"
      ]
    },
    {
      "cell_type": "code",
      "execution_count": null,
      "metadata": {
        "collapsed": false
      },
      "outputs": [],
      "source": [
        "# Coloring method\ncolor_by = 'count'\n# Weak connections -> alpha = .1 // strong connections -> alpha = 1.\ndynamic = (.1, 1.)\n# Define the connectivity and source object\nc_count = ConnectObj('default', nodes, edges, select=select, line_width=4.,\n                     color_by=color_by, antialias=True, dynamic=dynamic)\ns_obj_c = SourceObj('sources', nodes, color='olive', radius_min=10.,\n                    symbol='square')\n# And add connect, source and brain objects to the scene\nsc.add_to_subplot(c_count, row=0, col=1,\n                  title='Color by number of connections per node')\nsc.add_to_subplot(s_obj_c, use_this_cam=True, row=0, col=1)\nsc.add_to_subplot(BrainObj('B3'), use_this_cam=True, row=0, col=1)"
      ]
    },
    {
      "cell_type": "markdown",
      "metadata": {},
      "source": [
        "## Custom colors\n Finally, you can define your own colors which mean that for a specific\n connectivity strength, you can manually set a unique color. The provided\n dataset has values between [0., 1.]\n\n"
      ]
    },
    {
      "cell_type": "code",
      "execution_count": null,
      "metadata": {
        "collapsed": false
      },
      "outputs": [],
      "source": [
        "# First, we take a copy of the connectivity array\nedges_copy = edges.copy()\n# Then, we force edges to take fixed values\n# ====================   =========  ===========\n# Condition              New value  Color\n# ====================   =========  ===========\n# edges >= 0.8              4.      red\n# edges in [.78, .8[        3.      orange\n# edges in [.74, .78[       2.      blue\n# Others                    -       lightgray\n# ====================   =========  ===========\nedges_copy[edges_copy >= .8] = 4.\nedges_copy[np.logical_and(edges_copy >= .78, edges_copy < .8)] = 3.\nedges_copy[np.logical_and(edges_copy >= .74, edges_copy < .78)] = 2.\n# Now we use a dctionary to set one color per value.\nccol = {\n    None: 'lightgray',\n    2.: 'blue',\n    3.: 'orange',\n    4.: 'red'\n}\n\n# Define the connectivity and source objects\nc_cuscol = ConnectObj('default', nodes, edges_copy, select=edges > .7,\n                      custom_colors=ccol)\ns_obj_cu = SourceObj('sources', nodes, color='slategray', radius_min=10.,\n                     symbol='ring')\n# Add objects to the scene\nsc.add_to_subplot(c_cuscol, row=0, col=2, title='Custom colors')\nsc.add_to_subplot(s_obj_cu, row=0, col=2)\nsc.add_to_subplot(BrainObj('white'), use_this_cam=True, row=0, col=2)\n\n# Finally, display the scene\nsc.preview()"
      ]
    }
  ],
  "metadata": {
    "kernelspec": {
      "display_name": "Python 3",
      "language": "python",
      "name": "python3"
    },
    "language_info": {
      "codemirror_mode": {
        "name": "ipython",
        "version": 3
      },
      "file_extension": ".py",
      "mimetype": "text/x-python",
      "name": "python",
      "nbconvert_exporter": "python",
      "pygments_lexer": "ipython3",
      "version": "3.13.2"
    }
  },
  "nbformat": 4,
  "nbformat_minor": 0
}