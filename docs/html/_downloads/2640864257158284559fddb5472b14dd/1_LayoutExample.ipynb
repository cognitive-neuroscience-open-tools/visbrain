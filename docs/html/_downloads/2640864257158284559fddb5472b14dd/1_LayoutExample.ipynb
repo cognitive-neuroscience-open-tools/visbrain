{
  "cells": [
    {
      "cell_type": "markdown",
      "metadata": {},
      "source": [
        "\n# Page layout example\n\nArange pictures in a grid.\n\nDownload the archive :\nhttps://www.dropbox.com/s/jsjct54ynvdjzfq/figure.zip?dl=1\n"
      ]
    },
    {
      "cell_type": "code",
      "execution_count": null,
      "metadata": {
        "collapsed": false
      },
      "outputs": [],
      "source": [
        "import os\n\nfrom visbrain.gui import Figure\nfrom visbrain.io import download_file\n\nfig_path = download_file(\"figure.zip\", unzip=True, astype='example_data')\nfig_path = fig_path.split(\"figure.zip\")[0]\n\n# Files to load :\nfiles = ['default.png', 'inside.png', 'count.png', 'density.png',\n         'repartition.jpg', 'roi.jpg']\nfiles = [os.path.join(fig_path, k) for k in files]\n\n# Titles :\ntitles = ['Default view', 'Select sources inside', 'Connectivity',\n          'Connectivity', 'Cortical repartition', 'Cortical projection']\n\n# X-labels / Y-labels :\nxlabels = [None, None, 'Looks nice', 'Looks good', 'Repartition', 'ROI']\nylabels = ['Dirty', 'Better', None, None, None, 'Brodmann area 4 and 6']\n\n# Background color of each axis :\nax_bgcolor = ['slateblue', 'olive', 'black', 'darkgray', None, None]\n\n\nf = Figure(files, titles=titles, xlabels=xlabels, ylabels=ylabels,\n           figtitle='The Brain module', grid=(3, 2), ax_bgcolor=ax_bgcolor,\n           y=1., fig_bgcolor='white', figsize=(12, 12),\n           text_color='black', subspace={'wspace': 0.1, 'left': 0.})\n\n# Colorbar to the first connectivity plot :\nf.colorbar_to_axis(2, (1, 5), 'viridis', title='Color by count',\n                   ticks='minmax', fz_ticks=12)\n\n# Colorbar to the second connectivity plot :\nf.colorbar_to_axis(3, (0., 35.), 'magma', title='Color by density',\n                   ticks='complete', vmax=30, over='darkred', fz_ticks=12,\n                   vmin=10., under='gray')\n\n# Colorbar to the first projection plot :\nf.colorbar_to_axis(4, (1, 6), 'viridis', title='Nb of contributing\\nsources',\n                   ticks=1., fz_ticks=10, orientation='horizontal',\n                   vmin=2, under='gray', vmax=4, over='#ab4642')\n\n# Colorbar to the second projection plot :\nf.colorbar_to_axis(5, (.1, .5), 'inferno', title='ROI projection',\n                   ticks=[.2, .3], fz_ticks=10, orientation='horizontal')\n\n# Add a vertical shared colormap :\nf.shared_colorbar((-10, 10), 'inferno', fz_title=30, vmin=-7, vmax=6,\n                  under='olive', over='firebrick', position='right',\n                  title='Shared vertical colorbar', fz_ticks=20, pltmargin=.1,\n                  figmargin=.1)\n\n# Add a horizontal shared colormap :\nf.shared_colorbar(cmap='magma', clim=(-17, 17), fz_title=25, vmin=-11, vmax=12,\n                  under='olive', over='firebrick', position='bottom',\n                  title='Shared horizontal colorbar', fz_ticks=15,\n                  pltmargin=.1)\n\n# Save the picture :\nf.save('LayoutExample.png', dpi=600)\n\n# Finally, display the figure :\nf.show()"
      ]
    }
  ],
  "metadata": {
    "kernelspec": {
      "display_name": "Python 3",
      "language": "python",
      "name": "python3"
    },
    "language_info": {
      "codemirror_mode": {
        "name": "ipython",
        "version": 3
      },
      "file_extension": ".py",
      "mimetype": "text/x-python",
      "name": "python",
      "nbconvert_exporter": "python",
      "pygments_lexer": "ipython3",
      "version": "3.13.2"
    }
  },
  "nbformat": 4,
  "nbformat_minor": 0
}