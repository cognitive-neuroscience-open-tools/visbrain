{
  "cells": [
    {
      "cell_type": "markdown",
      "metadata": {},
      "source": [
        "\n# Butterfly plot\n\nSuperimposition of all the signals.\n\n<img src=\"file://../../_static/examples/ex_butterfly.png\">\n"
      ]
    },
    {
      "cell_type": "code",
      "execution_count": null,
      "metadata": {
        "collapsed": false
      },
      "outputs": [],
      "source": [
        "import numpy as np\nfrom visbrain.gui import Signal\n\n\nsf = 1024.  # Sampling frequency\nn_pts = 1000  # Number of time points\nn_sines = 100  # Number of sines\nf_sines = (.4, .6)  # (Min, Max) sines frequencies\n\n\"\"\"Generate the time vector\n\"\"\"\ntime_2d = np.mgrid[0:n_sines, 0:n_pts][1] / sf\ntime = time_2d[0, :] * 1000.\n\n\"\"\"Generate a random dataset to illustrate the butterfly\n\"\"\"\nphy = np.random.uniform(0., np.pi / 2., n_sines)\nf_sines = np.random.uniform(f_sines[0], f_sines[1], (n_sines, )).reshape(-1, 1)\ndata = np.sin(2 * np.pi * f_sines * time_2d + phy.reshape(-1, 1))\ndata += np.random.rand(*data.shape) / 100.\ndata *= np.random.uniform(.7, 1.3, (n_sines, )).reshape(-1, 1)\n\nSignal(data, time=time, form='butterfly', xlabel='Time (ms)',\n       ylabel='Amplitude (uV)', color='darkgray').show()"
      ]
    }
  ],
  "metadata": {
    "kernelspec": {
      "display_name": "Python 3",
      "language": "python",
      "name": "python3"
    },
    "language_info": {
      "codemirror_mode": {
        "name": "ipython",
        "version": 3
      },
      "file_extension": ".py",
      "mimetype": "text/x-python",
      "name": "python",
      "nbconvert_exporter": "python",
      "pygments_lexer": "ipython3",
      "version": "3.13.2"
    }
  },
  "nbformat": 4,
  "nbformat_minor": 0
}