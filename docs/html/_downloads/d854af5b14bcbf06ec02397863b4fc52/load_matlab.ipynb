{
  "cells": [
    {
      "cell_type": "markdown",
      "metadata": {},
      "source": [
        "\n# Load a Matlab file\n\nThis example demonstrate how to load an ELAN file.\n\nRequired dataset at :\nhttps://www.dropbox.com/s/bmfc2u55xsejbaf/sleep_matlab.zip?dl=1\n\n<img src=\"file://../../_static/examples/ex_LoadMatlab.png\">\n"
      ]
    },
    {
      "cell_type": "code",
      "execution_count": null,
      "metadata": {
        "collapsed": false
      },
      "outputs": [],
      "source": [
        "import os\nimport numpy as np\nfrom scipy.io import loadmat\n\nfrom visbrain.gui import Sleep\nfrom visbrain.io import download_file, path_to_visbrain_data"
      ]
    },
    {
      "cell_type": "markdown",
      "metadata": {},
      "source": [
        "## LOAD YOUR FILE\n Download matlab file :\n\n"
      ]
    },
    {
      "cell_type": "code",
      "execution_count": null,
      "metadata": {
        "collapsed": false
      },
      "outputs": [],
      "source": [
        "download_file(\"sleep_matlab.zip\", unzip=True, astype='example_data')\ntarget_path = path_to_visbrain_data(folder='example_data')\n\n# Load the matlab file :\nmat = loadmat(os.path.join(target_path, 's2_sleep.mat'))\n\n# Get the data, sampling frequency and channel names :\nraw_data = mat['data']\nraw_sf = float(mat['sf'])\nraw_channels = np.concatenate(mat['channels'].flatten()).tolist()\nraw_hypno = mat['hypno'].flatten()\n\n# Open the GUI :\nSleep(data=raw_data, sf=raw_sf, channels=raw_channels, hypno=raw_hypno).show()"
      ]
    }
  ],
  "metadata": {
    "kernelspec": {
      "display_name": "Python 3",
      "language": "python",
      "name": "python3"
    },
    "language_info": {
      "codemirror_mode": {
        "name": "ipython",
        "version": 3
      },
      "file_extension": ".py",
      "mimetype": "text/x-python",
      "name": "python",
      "nbconvert_exporter": "python",
      "pygments_lexer": "ipython3",
      "version": "3.13.2"
    }
  },
  "nbformat": 4,
  "nbformat_minor": 0
}