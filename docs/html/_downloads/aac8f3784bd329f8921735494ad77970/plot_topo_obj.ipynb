{
  "cells": [
    {
      "cell_type": "markdown",
      "metadata": {},
      "source": [
        "\n# Topoplot object (TopoObj) : complete tutorial\n\nThis example illustrate the main functionalities and inputs of the topoplot\nobject i.e :\n\n  * Use channel names or position to identify which channels are used\n  * Main color and appearance properties\n  * Display levels (either regulary spaced and based on a colormap or custom\n    levels with custom colors)\n  * Display connectivity\n"
      ]
    },
    {
      "cell_type": "code",
      "execution_count": null,
      "metadata": {
        "collapsed": false
      },
      "outputs": [],
      "source": [
        "import numpy as np\n\nfrom visbrain.objects import TopoObj, ColorbarObj, SceneObj\nfrom visbrain.io import download_file"
      ]
    },
    {
      "cell_type": "markdown",
      "metadata": {},
      "source": [
        "## Download data\n First, we download the data. A directory should be created to\n ~/visbrain_data/example_data. This example contains beta power for several\n channels defined by there xy coordinates.\n\n"
      ]
    },
    {
      "cell_type": "code",
      "execution_count": null,
      "metadata": {
        "collapsed": false
      },
      "outputs": [],
      "source": [
        "path = download_file('topoplot_data.npz', astype='example_data')\nmat = np.load(path)\nxy, data = mat['xyz'], mat['data']\nchannels = [str(k) for k in range(len(data))]\n# Plotting properties shared across topoplots and colorbar :\nkw_top = dict(margin=15 / 100, chan_offset=(0., 0.1, 0.), chan_size=10)\nkw_cbar = dict(cbtxtsz=12, txtsz=10., width=.3, txtcolor='black', cbtxtsh=1.8,\n               rect=(0., -2., 1., 4.), border=False)"
      ]
    },
    {
      "cell_type": "markdown",
      "metadata": {},
      "source": [
        "## Creation of the scene\n Create a scene with a white background\n\n"
      ]
    },
    {
      "cell_type": "code",
      "execution_count": null,
      "metadata": {
        "collapsed": false
      },
      "outputs": [],
      "source": [
        "sc = SceneObj(bgcolor='white', size=(1600, 900))"
      ]
    },
    {
      "cell_type": "markdown",
      "metadata": {},
      "source": [
        "## Topoplot based on channel names\n First definition using channel names only\n\n"
      ]
    },
    {
      "cell_type": "code",
      "execution_count": null,
      "metadata": {
        "collapsed": false
      },
      "outputs": [],
      "source": [
        "# Define some EEG channels and set one data value per channel\nch_names = ['C3', 'C4', 'Cz', 'Fz', 'Pz']\ndata_names = [10, 20, 30, 10, 10]\n# Create the topoplot and the associated colorbar\nt_obj = TopoObj('topo', data_names, channels=ch_names, **kw_top)\ncb_obj = ColorbarObj(t_obj, cblabel='Colorbar label', **kw_cbar)\n# Add both objects to the scene\n# Add the topoplot and the colorbar to the scene :\nsc.add_to_subplot(t_obj, row=0, col=0, title='Definition using channel names',\n                  title_color='black', width_max=400)\nsc.add_to_subplot(cb_obj, row=0, col=1, width_max=100)"
      ]
    },
    {
      "cell_type": "markdown",
      "metadata": {},
      "source": [
        "## Topoplot based on channel (x, y) coordinates\n Second definition using channel (x, y) coordinates\n\n"
      ]
    },
    {
      "cell_type": "code",
      "execution_count": null,
      "metadata": {
        "collapsed": false
      },
      "outputs": [],
      "source": [
        "# Create the topoplot and the object :\nt_obj_1 = TopoObj('topo', data, channels=channels, xyz=xy, cmap='bwr',\n                  clim=(2., 3.), **kw_top)\ncb_obj_1 = ColorbarObj(t_obj_1, cblabel='Beta power', **kw_cbar)\n# Add the topoplot and the colorbar to the scene :\nsc.add_to_subplot(t_obj_1, row=0, col=2, title_color='black', width_max=400,\n                  title='Definition using channel coordinates')\nsc.add_to_subplot(cb_obj_1, row=0, col=3, width_max=100)"
      ]
    },
    {
      "cell_type": "markdown",
      "metadata": {},
      "source": [
        "## Custom extrema colors\n Here, we use custom colors for extrema i.e every values under `vmin=2.` is\n going to be set to the color 'slateblue' and every values over `vmax=2.8` to\n 'green'\n\n"
      ]
    },
    {
      "cell_type": "code",
      "execution_count": null,
      "metadata": {
        "collapsed": false
      },
      "outputs": [],
      "source": [
        "# Define the topoplot object\nt_obj_2 = TopoObj('topo', data, xyz=xy, cmap='inferno', vmin=2.,\n                  under='slateblue', vmax=2.8, over='olive',\n                  **kw_top)\n# Get the colorbar based on the color properties of the topoplot :\ncb_obj_2 = ColorbarObj(t_obj_2, cblabel='Beta power', **kw_cbar)\n# Add the topoplot and the colorbar to the scene :\nsc.add_to_subplot(t_obj_2, row=0, col=4, title='Custom extrema colors',\n                  title_color='black', width_max=400)\nsc.add_to_subplot(cb_obj_2, row=0, col=5, width_max=100)"
      ]
    },
    {
      "cell_type": "markdown",
      "metadata": {},
      "source": [
        "## Connect channels\n To connect channels together, we need a 2D array of shape\n (n_channels, n_channels) describing connectivity strength between channels.\n Note that the `visbrain.objects.TopoObj.connect` method basically use the\n `visbrain.objects.ConnectObj` object.\n\n"
      ]
    },
    {
      "cell_type": "code",
      "execution_count": null,
      "metadata": {
        "collapsed": false
      },
      "outputs": [],
      "source": [
        "# Create the topoplot and colorbar objects\nt_obj_3 = TopoObj('topo', data, xyz=xy, cmap='Spectral_r', **kw_top)\ncb_obj_3 = ColorbarObj(t_obj_3, cblabel='Beta power', **kw_cbar)\n# Create the 2D array of connectivity links :\nconnect = (data.reshape(-1, 1) + data.reshape(1, -1)) / 2.\n# Select only connectivity links with a connectivity strength under 1.97\nselect = connect < 1.97\n# Connect the selected channels :\nt_obj_3.connect(connect, select=select, cmap='inferno', antialias=True,\n                line_width=4.)\n# Add the topoplot and the colorbar to the scene :\nsc.add_to_subplot(t_obj_3, row=1, col=4, title='Display connectivity',\n                  title_color='black', width_max=400)\nsc.add_to_subplot(cb_obj_3, row=1, col=5, width_max=100)"
      ]
    },
    {
      "cell_type": "markdown",
      "metadata": {},
      "source": [
        "## Topoplot with regulary spaced levels\n Here, we create a topoplot with 10 regulary spaced levels. The color of each\n level is based on the 'bwr' colormap. Note that in order to work properly,\n you need to install [scikit-image](https://scikit-image.org/)\n\n"
      ]
    },
    {
      "cell_type": "code",
      "execution_count": null,
      "metadata": {
        "collapsed": false
      },
      "outputs": [],
      "source": [
        "# Create the topoplot object :\nt_obj_4 = TopoObj('topo', data, xyz=xy, levels=10, level_colors='bwr',\n                  **kw_top)\n# Get the colorbar based on the color properties of the topoplot :\ncb_obj_4 = ColorbarObj(t_obj_4, cblabel='Beta power', **kw_cbar)\n# Add the topoplot and the colorbar to the scene :\nsc.add_to_subplot(t_obj_4, row=1, col=0, title='Regulary spaced levels',\n                  title_color='black', width_max=400)\nsc.add_to_subplot(cb_obj_4, row=1, col=1, width_max=100)"
      ]
    },
    {
      "cell_type": "markdown",
      "metadata": {},
      "source": [
        "## Topoplot with custom levels\n The only difference with the previous plot is that levels are not regulary\n spaced anymore but they are manually defined, just as color.\n\n"
      ]
    },
    {
      "cell_type": "code",
      "execution_count": null,
      "metadata": {
        "collapsed": false
      },
      "outputs": [],
      "source": [
        "# First level is going to be red, the second one green and the last one blue\nlevel_colors = np.array([[1., 0., 0.], [0., 1., 0.], [0., 0., 1.]])\nlevels = [2., 2.2, 2.5]\n# Create the topoplot object :\nt_obj_5 = TopoObj('topo', data, xyz=xy, levels=levels,\n                  level_colors=level_colors, chan_mark_symbol='cross',\n                  line_width=7., chan_mark_color='gray', cmap='plasma',\n                  line_color='#3498db', **kw_top)\n# Get the colorbar based on the color properties of the topoplot :\ncb_obj_5 = ColorbarObj(t_obj_5, cblabel='Beta power', **kw_cbar)\n# Add the topoplot and the colorbar to the scene :\nsc.add_to_subplot(t_obj_5, row=1, col=2, title='Custom levels',\n                  title_color='black')\nsc.add_to_subplot(cb_obj_5, row=1, col=3, width_max=100)\n\n# Finally, display the scene\nsc.preview()"
      ]
    }
  ],
  "metadata": {
    "kernelspec": {
      "display_name": "Python 3",
      "language": "python",
      "name": "python3"
    },
    "language_info": {
      "codemirror_mode": {
        "name": "ipython",
        "version": 3
      },
      "file_extension": ".py",
      "mimetype": "text/x-python",
      "name": "python",
      "nbconvert_exporter": "python",
      "pygments_lexer": "ipython3",
      "version": "3.13.2"
    }
  },
  "nbformat": 4,
  "nbformat_minor": 0
}