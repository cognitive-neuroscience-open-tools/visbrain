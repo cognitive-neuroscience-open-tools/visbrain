{
  "cells": [
    {
      "cell_type": "markdown",
      "metadata": {},
      "source": [
        "\n# Brain control\n\nControl the brain i.e the brain template to use, the transparency and\nthe hemisphere.\n\nYou can also rotate the scene using predefined rotations (axial, sagittal or\ncoronal) or custom rotation.\n\nFixed parameters for rotation :\n\n    * Top view : 'top' or 'axial_0'\n    * Bottom view : 'bottom' or 'axial_1'\n    * Left : 'left' or 'sagittal_0'\n    * Right : 'right' or 'sagittal_1'\n    * Front : 'front' or 'coronal_0'\n    * Back : 'back' or 'coronal_1'\n\nCustom rotation consist of a tuple of two floats repsectively for azimuth and\nelevation.\n\n<img src=\"file://../../_static/examples/ex_brain_control.png\">\n"
      ]
    },
    {
      "cell_type": "code",
      "execution_count": null,
      "metadata": {
        "collapsed": false
      },
      "outputs": [],
      "source": [
        "from visbrain.gui import Brain\nfrom visbrain.objects import BrainObj\n\n\"\"\"Visbrain comes with three default templates :\n* B1 (with cerebellum)\n* B2\n* B3\n\nThree templates can also be downloaded :\n* inflated (inflated brain of PySurfer)\n* white\n* sphere\n\"\"\"\nb_obj = BrainObj('B3')  # 'B1', 'B2', 'inflated', 'sphere', 'white'\n\n\"\"\"By default, the brain is translucent but it can be turned to opaque\n\"\"\"\n# b_obj = BrainObj('B3', translucent=False)\n\n\"\"\"You can also select a specific hemisphere\n\"\"\"\n# b_obj = BrainObj('B3', translucent=False, hemisphere='left')  # 'right'\n\n\"\"\"For the inflated, white and translucent templates, sulcus can be also used\n\"\"\"\n# b_obj = BrainObj('inflated', translucent=False, hemisphere='right',\n#                  sulcus=True)\n\n\"\"\"Once the brain object created, pass it to the graphical user interface.\n\nIf you want to control the brain from the GUI, go to the Objects tab and select\n'Brain' from the first combo box. You can also use the key shortcut b to\ndisplay/hide the brain.\n\"\"\"\nvb = Brain(brain_obj=b_obj, bgcolor='slateblue')\n\n\"\"\"Display opaque right hemisphere of B3 :\n\"\"\"\n# vb.brain_control(template='B3', hemisphere='right', translucent=False)\n\n\"\"\"\nFixed frontal view\n\"\"\"\n# vb.rotate(fixed='front')\n\n\"\"\"\nDisplay transparent left hemisphere of B2\n\"\"\"\n# vb.brain_control(template='B2', hemisphere='left', alpha=.05)\n\n\"\"\"\nCustom rotation\n    * azimuth = -34\u00b0\n    * elevation = 74\u00b0\n\"\"\"\n# vb.rotate(custom=(-34, 74))  # Custom rotation\n\n\"\"\"\nHide the brain\n\"\"\"\n# vb.brain_control(visible=False)\n\n\"\"\"\nChange background color\n\"\"\"\n# vb.background_color('#34495e')\n\nvb.show()"
      ]
    }
  ],
  "metadata": {
    "kernelspec": {
      "display_name": "Python 3",
      "language": "python",
      "name": "python3"
    },
    "language_info": {
      "codemirror_mode": {
        "name": "ipython",
        "version": 3
      },
      "file_extension": ".py",
      "mimetype": "text/x-python",
      "name": "python",
      "nbconvert_exporter": "python",
      "pygments_lexer": "ipython3",
      "version": "3.13.2"
    }
  },
  "nbformat": 4,
  "nbformat_minor": 0
}