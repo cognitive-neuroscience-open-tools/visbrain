{
  "cells": [
    {
      "cell_type": "markdown",
      "metadata": {},
      "source": [
        "\n# Matplotlib plot of an hypnogram\n\nPlot a hypnogram using matplotlib.\n"
      ]
    },
    {
      "cell_type": "code",
      "execution_count": null,
      "metadata": {
        "collapsed": false
      },
      "outputs": [],
      "source": [
        "import matplotlib.pyplot as plt\n\nfrom visbrain.io import write_fig_hyp, read_hypno, download_file"
      ]
    },
    {
      "cell_type": "markdown",
      "metadata": {},
      "source": [
        "## Plotting properties\n Define plotting properties\n\n"
      ]
    },
    {
      "cell_type": "code",
      "execution_count": null,
      "metadata": {
        "collapsed": false
      },
      "outputs": [],
      "source": [
        "grid = True     # display the grid\nascolor = True  # plt as color or in black and white\nfile = None     # Name of the file to be saved example : 'myfile.png'"
      ]
    },
    {
      "cell_type": "markdown",
      "metadata": {},
      "source": [
        "## Hypnogram data\n For the illustration, a hypnogram is downloaded\n\n"
      ]
    },
    {
      "cell_type": "code",
      "execution_count": null,
      "metadata": {
        "collapsed": false
      },
      "outputs": [],
      "source": [
        "path_to_hypno = download_file(\"s101_jbe.hyp\", astype='example_data')\ndata, sf = read_hypno(path_to_hypno)"
      ]
    },
    {
      "cell_type": "markdown",
      "metadata": {},
      "source": [
        "## Plot the hypnogram\n Plot the hypnogram. If file is None, the window is displayed otherwise the\n figure is saved\n\n"
      ]
    },
    {
      "cell_type": "code",
      "execution_count": null,
      "metadata": {
        "collapsed": false
      },
      "outputs": [],
      "source": [
        "# Fill the following for custom states specification\nhstates = None\nhvalues = None\nhcolors = None\nhYranks = None\n\nwrite_fig_hyp(data, sf, grid=grid, ascolor=ascolor, file=file,\n              hstates=hstates, hvalues=hvalues, hcolors=hcolors,\n              hYranks=hYranks)\nplt.show()"
      ]
    }
  ],
  "metadata": {
    "kernelspec": {
      "display_name": "Python 3",
      "language": "python",
      "name": "python3"
    },
    "language_info": {
      "codemirror_mode": {
        "name": "ipython",
        "version": 3
      },
      "file_extension": ".py",
      "mimetype": "text/x-python",
      "name": "python",
      "nbconvert_exporter": "python",
      "pygments_lexer": "ipython3",
      "version": "3.13.2"
    }
  },
  "nbformat": 4,
  "nbformat_minor": 0
}