{
  "cells": [
    {
      "cell_type": "markdown",
      "metadata": {},
      "source": [
        "\n# Plot MEG inverse solution\n\nPlot MEG inverse solution.\n\nSee the original example :\n\nhttps://pysurfer.github.io/auto_examples/plot_meg_inverse_solution.html#sphx-glr-auto-examples-plot-meg-inverse-solution-py\n\n<img src=\"file://../../_static/examples/ex_eegmeg_meg_inverse.png\">\n"
      ]
    },
    {
      "cell_type": "code",
      "execution_count": null,
      "metadata": {
        "collapsed": false
      },
      "outputs": [],
      "source": [
        "from visbrain.gui import Brain\nfrom visbrain.objects import BrainObj\nfrom visbrain.io import download_file, read_stc\n\n\"\"\"Download file if needed :\n\"\"\"\nstc_file = download_file('meg_source_estimate-lh.stc', astype='example_data')\n\n# Read the *.stc file :\nfile = read_stc(stc_file)\n\n# Get the data and vertices from the file :\ndata = file['data'][:, 2]\nvertices = file['vertices']\n\n# Define a brain object and add the data to the mesh :\nb_obj = BrainObj('inflated', translucent=False, hemisphere='left')\nb_obj.add_activation(data=data, vertices=vertices, smoothing_steps=15,\n                     clim=(13., 22.), hide_under=13., cmap='plasma',\n                     hemisphere='left')\n\n# Finally, pass the brain object to the Brain module :\nvb = Brain(brain_obj=b_obj)\nvb.rotate('left')\nvb.show()"
      ]
    }
  ],
  "metadata": {
    "kernelspec": {
      "display_name": "Python 3",
      "language": "python",
      "name": "python3"
    },
    "language_info": {
      "codemirror_mode": {
        "name": "ipython",
        "version": 3
      },
      "file_extension": ".py",
      "mimetype": "text/x-python",
      "name": "python",
      "nbconvert_exporter": "python",
      "pygments_lexer": "ipython3",
      "version": "3.13.2"
    }
  },
  "nbformat": 4,
  "nbformat_minor": 0
}