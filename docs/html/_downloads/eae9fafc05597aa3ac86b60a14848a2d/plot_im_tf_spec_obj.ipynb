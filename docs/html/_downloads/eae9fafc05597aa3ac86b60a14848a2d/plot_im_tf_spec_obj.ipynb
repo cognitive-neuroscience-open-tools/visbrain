{
  "cells": [
    {
      "cell_type": "markdown",
      "metadata": {},
      "source": [
        "\n# Image, time-frequency map and spectrogram objects\n\nUse and control image, time-frequency maps and spectrogram.\n\n    * Display and configure an image (color, interpolation)\n    * Compute and display time-frequency properties of a signal (spectrogram,\n      wavelet based time-frequency maps or multi-taper)\n"
      ]
    },
    {
      "cell_type": "code",
      "execution_count": null,
      "metadata": {
        "collapsed": false
      },
      "outputs": [],
      "source": [
        "import numpy as np\nfrom visbrain.objects import (ImageObj, TimeFrequencyObj, ColorbarObj,\n                              SceneObj)"
      ]
    },
    {
      "cell_type": "markdown",
      "metadata": {},
      "source": [
        "## Scene creation\n First, we define the scene and a few colorbar properties (like font size,\n colorbar width...)\n\n"
      ]
    },
    {
      "cell_type": "code",
      "execution_count": null,
      "metadata": {
        "collapsed": false
      },
      "outputs": [],
      "source": [
        "CBAR_STATE = dict(cbtxtsz=12, txtsz=10., width=.1, rect=(-0.2, -2., 1., 4.),\n                  cbtxtsh=4.)\nsc = SceneObj(size=(1000, 600))"
      ]
    },
    {
      "cell_type": "markdown",
      "metadata": {},
      "source": [
        "## Create sample data\n Then we create some data for 1) images (a basic diagonale image) and 2) a\n sine signal with a main frequency at 25hz\n\n"
      ]
    },
    {
      "cell_type": "code",
      "execution_count": null,
      "metadata": {
        "collapsed": false
      },
      "outputs": [],
      "source": [
        "# Define a (10, 10) image\nn = 10\nimage = np.r_[np.arange(n - 1), np.arange(n)[::-1]]\nimage = image.reshape(-1, 1) + image.reshape(1, -1)\nimage[np.diag_indices_from(image)] = 30.\n\n# Define a 25hz sine\nn, sf = 512, 256\ntime = np.arange(n) / sf  # time vector\ndata = np.sin(2 * np.pi * 25. * time) + np.random.rand(n)"
      ]
    },
    {
      "cell_type": "markdown",
      "metadata": {},
      "source": [
        "## Plot an image\n Most basic plot of the image without further customization\n\n"
      ]
    },
    {
      "cell_type": "code",
      "execution_count": null,
      "metadata": {
        "collapsed": false
      },
      "outputs": [],
      "source": [
        "im_basic = ImageObj('ex1', image)\nsc.add_to_subplot(im_basic, row=0, col=0, title='Basic image', zoom=.9)"
      ]
    },
    {
      "cell_type": "markdown",
      "metadata": {},
      "source": [
        "## Interpolated image\n The image can also be interpolated. Checkout the complete list on the\n VisPy website (vispy.visuals.ImageVisual)\n\n"
      ]
    },
    {
      "cell_type": "code",
      "execution_count": null,
      "metadata": {
        "collapsed": false
      },
      "outputs": [],
      "source": [
        "im_interp = ImageObj('ex2', image, interpolation='bicubic')\nsc.add_to_subplot(im_interp, row=0, col=1, title='Interpolated image', zoom=.9)"
      ]
    },
    {
      "cell_type": "markdown",
      "metadata": {},
      "source": [
        "## Color properties\n The ImageObj allow several custom color properties (such as color\n thresholding, colormap control...)\n\n"
      ]
    },
    {
      "cell_type": "code",
      "execution_count": null,
      "metadata": {
        "collapsed": false
      },
      "outputs": [],
      "source": [
        "# Create the image object\nim_color = ImageObj('ex3', image, interpolation='bilinear', cmap='Spectral_r',\n                    vmin=5., vmax=20., under='gray', over='darkred')\nsc.add_to_subplot(im_color, row=0, col=2, title='Custom colors', zoom=.9)\n# Get the colorbar of the image\ncb_im_color = ColorbarObj(im_color, cblabel='Image data', **CBAR_STATE)\nsc.add_to_subplot(cb_im_color, row=0, col=3, width_max=150, zoom=.9)"
      ]
    },
    {
      "cell_type": "markdown",
      "metadata": {},
      "source": [
        "## Spectrogram\n Extract time-frequency properties using the Fourier transform\n\n"
      ]
    },
    {
      "cell_type": "code",
      "execution_count": null,
      "metadata": {
        "collapsed": false
      },
      "outputs": [],
      "source": [
        "spec = TimeFrequencyObj('spec', data, sf, method='fourier', cmap='RdBu_r')\nsc.add_to_subplot(spec, row=1, col=0, title='Spectrogram', zoom=.9)"
      ]
    },
    {
      "cell_type": "markdown",
      "metadata": {},
      "source": [
        "## Time-frequency map\n Extract time-frequency properties using the wavelet convolution\n\n"
      ]
    },
    {
      "cell_type": "code",
      "execution_count": null,
      "metadata": {
        "collapsed": false
      },
      "outputs": [],
      "source": [
        "tf = TimeFrequencyObj('tf', data, sf, method='wavelet')\nsc.add_to_subplot(tf, row=1, col=1, title='Time-frequency map', zoom=.9)"
      ]
    },
    {
      "cell_type": "markdown",
      "metadata": {},
      "source": [
        "## Multi-taper\n Extract time-frequency properties using multi-taper (need installation of\n lspopt package)\n\n"
      ]
    },
    {
      "cell_type": "code",
      "execution_count": null,
      "metadata": {
        "collapsed": false
      },
      "outputs": [],
      "source": [
        "tf_mt = TimeFrequencyObj('mt', data, sf, method='multitaper', overlap=.7,\n                         interpolation='bicubic', cmap='Spectral_r')\nsc.add_to_subplot(tf_mt, row=1, col=2, title='Multi-taper', zoom=.9)\ncb_tf_win = ColorbarObj(tf_mt, cblabel='Power', **CBAR_STATE)\nsc.add_to_subplot(cb_tf_win, row=1, col=3, width_max=150, zoom=.9)\n\n# Display the scene\nsc.preview()"
      ]
    }
  ],
  "metadata": {
    "kernelspec": {
      "display_name": "Python 3",
      "language": "python",
      "name": "python3"
    },
    "language_info": {
      "codemirror_mode": {
        "name": "ipython",
        "version": 3
      },
      "file_extension": ".py",
      "mimetype": "text/x-python",
      "name": "python",
      "nbconvert_exporter": "python",
      "pygments_lexer": "ipython3",
      "version": "3.13.2"
    }
  },
  "nbformat": 4,
  "nbformat_minor": 0
}