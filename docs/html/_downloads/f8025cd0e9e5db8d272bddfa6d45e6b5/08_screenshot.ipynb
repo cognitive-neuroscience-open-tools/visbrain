{
  "cells": [
    {
      "cell_type": "markdown",
      "metadata": {},
      "source": [
        "\n# Screenshot example\n\nOffline rendering of selected canvas.\n\nFirst, ou can take screenshot from the graphical interface using the menu\nFile/save/screenshot. The aim of this script is more to illustrate how to\ntake screenshots without opening the interface.\n\nFurther explanations about screenshot and transparency can be foud here :\nhttp://visbrain.org/vbexport.html\n\nDownload source's coordinates (xyz_sample.npz) :\nhttps://www.dropbox.com/s/whogfxutyxoir1t/xyz_sample.npz?dl=1\n\n<img src=\"file://../../_static/examples/ex_brain_screenshot.png\">\n"
      ]
    },
    {
      "cell_type": "code",
      "execution_count": null,
      "metadata": {
        "collapsed": false
      },
      "outputs": [],
      "source": [
        "import os\nimport numpy as np\n\nfrom visbrain.gui import Brain\nfrom visbrain.objects import BrainObj, SourceObj, RoiObj\nfrom visbrain.io import download_file, path_to_visbrain_data\n\nsave_pic_path = path_to_visbrain_data(folder='Example_pic')\n\n# Load the xyz coordinates and corresponding subject name :\ns_xyz = np.load(download_file('xyz_sample.npz', astype='example_data'))['xyz']\n\n\"\"\"Create a source object with random data between [-50,50]\n\"\"\"\ns_data = np.random.uniform(-50, 50, s_xyz.shape[0])\ns_obj = SourceObj('Sobj', s_xyz, data=s_data, color='darkred', alpha=.5,\n                  radius_min=2., radius_max=8., edge_width=0.)\n\n\"\"\"Create a Region of Interest Object (ROI) and display brodmann area 4 and 6\n\"\"\"\nroi_obj = RoiObj('brodmann')\nidx_4_6 = roi_obj.where_is(['BA4', 'BA6'], exact=True)\nroi_color = {idx_4_6[0]: 'red',    # BA4 in red and BA6 in green\n             idx_4_6[1]: 'green'}\nroi_obj.select_roi(idx_4_6, unique_color=True, roi_to_color=roi_color,\n                   smooth=7)\n\n\"\"\"Create a brain object\n\"\"\"\nb_obj = BrainObj('B1', hemisphere='both', translucent=True)\n\n\"\"\"Pass the brain, source and ROI object to the GUI\n\"\"\"\nvb = Brain(brain_obj=b_obj, source_obj=s_obj, roi_obj=roi_obj)\n\n\"\"\"Render the scene and save the jpg picture with a 300dpi\n\"\"\"\nsave_as = os.path.join(save_pic_path, '0_main_brain.jpg')\nvb.screenshot(save_as, dpi=300, print_size=(10, 10), autocrop=True)\n\n\"\"\"Project source's activity onto the surface\n\"\"\"\nvb.cortical_projection(clim=(0, 50), cmap='Spectral_r', vmin=10.1,\n                       under='black', vmax=41.2, over='green')\nvb.sources_control('Sobj', visible=False)        # Hide sources\nvb.rotate(custom=(-160., 10.))                   # Rotate the brain\nvb.brain_control(translucent=False)              # Make the brain opaque\n\n\"\"\"Now, we take a screenthot of the scene but this time, we used the\nautocrop argument to crop the image as close as possible to the brain.\n\nThen, we used the print_size, dpi and unit inputs to get higher resolution\nimage.\nTaken together, this mean that the image should have a sufficient size to be\n(20 centimeters x 20 centimeters) at 300 dpi.\n\"\"\"\nsave_as = os.path.join(save_pic_path, '1_proj_brain.tiff')\nvb.screenshot(save_as, autocrop=True, print_size=(20, 20),\n              unit='centimeter', dpi=300.)\n\n\"\"\"Colorbar screenshot\n\nThe previous screenshot use the print_size input to increase the resolution.\nNow, we use the factor input to do the same. This input simply increase\nthe image size proportionally.\n\nStart by selecting the colorbar of the cortical projection, improve the\nappearance and make a screenshot of it.\n\"\"\"\nsave_as = os.path.join(save_pic_path, '2_proj_colorbar.tiff')\nvb.screenshot(save_as, canvas='colorbar', autocrop=True, factor=2.)\n\n\"\"\"Background color and transparency control of ROI screenshot\n\"\"\"\nroi_obj('aal')\nidx_precentral_l = roi_obj.where_is(['Precentral (L)'], exact=True)\nidx_postcentral_r = roi_obj.where_is(['Postcentral (R)'], exact=True)\nroi_obj.select_roi(idx_precentral_l + idx_postcentral_r, smooth=11)\n\nvb.cortical_repartition(project_on='roi', clim=(1, 17), vmin=2,\n                        under='gray', cmap='Reds')\nvb.sources_control('Sobj', visible=False)   # Display sources\nvb.rotate(custom=(-210, 10.))               # Rotate the brain\nvb.brain_control(visible=False)             # Hide the brain\n\nsave_as = os.path.join(save_pic_path, '3_cort_proj_roi.tiff')\nsave_as_cbar = os.path.join(save_pic_path, '3_cort_proj_roi_cbar.tiff')\nvb.screenshot(save_as, transparent=True, autocrop=True, print_size=(5, 5))\nvb.screenshot(save_as_cbar, canvas='colorbar', autocrop=True, factor=2.)\n\n# Alternatively, you can display the GUI at the end, but it's not a necessity\n# vb.show()"
      ]
    }
  ],
  "metadata": {
    "kernelspec": {
      "display_name": "Python 3",
      "language": "python",
      "name": "python3"
    },
    "language_info": {
      "codemirror_mode": {
        "name": "ipython",
        "version": 3
      },
      "file_extension": ".py",
      "mimetype": "text/x-python",
      "name": "python",
      "nbconvert_exporter": "python",
      "pygments_lexer": "ipython3",
      "version": "3.13.2"
    }
  },
  "nbformat": 4,
  "nbformat_minor": 0
}