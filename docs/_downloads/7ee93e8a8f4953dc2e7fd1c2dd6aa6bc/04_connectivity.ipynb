{
  "cells": [
    {
      "cell_type": "markdown",
      "metadata": {},
      "source": [
        "\n# Connect deep sources\n\nDisplay and customize connectivity. To this end, we define some deep sources\nand connect them.\n\nDownload source's coordinates (xyz_sample.npz) :\nhttps://www.dropbox.com/s/whogfxutyxoir1t/xyz_sample.npz?dl=1\n\n<img src=\"file://../../_static/examples/ex_connectivity.png\">\n"
      ]
    },
    {
      "cell_type": "code",
      "execution_count": null,
      "metadata": {
        "collapsed": false
      },
      "outputs": [],
      "source": [
        "from __future__ import print_function\nimport numpy as np\n\nfrom visbrain.gui import Brain\nfrom visbrain.objects import SourceObj, ConnectObj\nfrom visbrain.io import download_file\n\n# Create an empty kwargs dictionnary :\nkwargs = {}\n\n# ____________________________ DATA ____________________________\n\n# Load the xyz coordinates and corresponding subject name :\nmat = np.load(download_file('xyz_sample.npz', astype='example_data'))\nxyz, subjects = mat['xyz'], mat['subjects']\n\nN = xyz.shape[0]  # Number of electrodes\n\n# Now, create some random data between [-50,50]\ndata = np.random.uniform(-50, 50, len(subjects))\n\n\"\"\"Create the source object :\n\"\"\"\ns_obj = SourceObj('SourceObj1', xyz, data, color='crimson', alpha=.5,\n                  edge_width=2., radius_min=2., radius_max=10.)\n\n\"\"\"\nTo connect sources between them, we create a (N, N) array.\nThis array should be either upper or lower triangular to avoid\nredondant connections.\n\"\"\"\nconnect = 1000 * np.random.rand(N, N)\t\t# Random array of connections\nconnect[np.tril_indices_from(connect)] = 0  # Set to zero inferior triangle\n\n\"\"\"\nBecause all connections are not necessary interesting, it's possible to select\nonly certain either using a select array composed with ones and zeros, or by\nmasking the connection matrix. We are giong to search vealues between umin and\numax to limit the number of connections :\n\"\"\"\numin, umax = 30, 31\n\n# 1 - Using select (0: hide, 1: display):\nselect = np.zeros_like(connect)\nselect[(connect > umin) & (connect < umax)] = 1\n\n# 2 - Using masking (True: hide, 1: display):\nconnect = np.ma.masked_array(connect, mask=True)\nconnect.mask[np.where((connect > umin) & (connect < umax))] = False\n\nprint('1 and 2 equivalent :', np.array_equal(select, ~connect.mask + 0))\n\n\"\"\"Create the connectivity object :\n\"\"\"\nc_obj = ConnectObj('ConnectObj1', xyz, connect, color_by='strength',\n                   dynamic=(.1, 1.), cmap='gnuplot', vmin=umin + .2,\n                   vmax=umax - .1, under='red', over='green',\n                   clim=(umin, umax), antialias=True)\n\n\"\"\"Finally, pass source and connectivity objects to Brain :\n\"\"\"\nvb = Brain(source_obj=s_obj, connect_obj=c_obj)\n\nvb.show()"
      ]
    }
  ],
  "metadata": {
    "kernelspec": {
      "display_name": "Python 3",
      "language": "python",
      "name": "python3"
    },
    "language_info": {
      "codemirror_mode": {
        "name": "ipython",
        "version": 3
      },
      "file_extension": ".py",
      "mimetype": "text/x-python",
      "name": "python",
      "nbconvert_exporter": "python",
      "pygments_lexer": "ipython3",
      "version": "3.13.2"
    }
  },
  "nbformat": 4,
  "nbformat_minor": 0
}