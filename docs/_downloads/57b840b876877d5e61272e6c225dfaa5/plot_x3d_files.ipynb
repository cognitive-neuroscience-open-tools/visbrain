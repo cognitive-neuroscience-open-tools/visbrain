{
  "cells": [
    {
      "cell_type": "markdown",
      "metadata": {},
      "source": [
        "\n# Plot x3d files\n\nThis example illustrate how to plot .x3d files. 6 brain templates are going to\nbe downloaded (total of 26.3Mo). Additional templates can be downloaded from :\nhttps://scalablebrainatlas.incf.org\n"
      ]
    },
    {
      "cell_type": "code",
      "execution_count": null,
      "metadata": {
        "collapsed": false
      },
      "outputs": [],
      "source": [
        "from visbrain.objects import BrainObj, SceneObj\nfrom visbrain.io import download_file\n\n\nsc = SceneObj(size=(1500, 800))"
      ]
    },
    {
      "cell_type": "markdown",
      "metadata": {},
      "source": [
        "## Ferret brain\n Hutchinson EB, Schwerin SC, Radomski KL, Sadeghi N, Jenkins J, Komlosh ME,\n Irfanoglu MO, Juliano SL, Pierpaoli C (2017) \"Population based MRI and DTI\n templates of the adult ferret brain and tools for voxelwise analysis\"\n Neuroimage 152:575\u2013589. [doi 10.1016/j.neuroimage.2017.03.009]\n\n"
      ]
    },
    {
      "cell_type": "code",
      "execution_count": null,
      "metadata": {
        "collapsed": false
      },
      "outputs": [],
      "source": [
        "ferret_file = download_file('ferret.x3d', astype='example_data')\nb_ferret_obj = BrainObj(ferret_file, translucent=False)\nsc.add_to_subplot(b_ferret_obj, title='Ferret brain (Hutchinson et al. 2017)')"
      ]
    },
    {
      "cell_type": "markdown",
      "metadata": {},
      "source": [
        "## Macaque brain (1)\n Markov NT, Ercsey-Ravasz MM, Ribeiro Gomes AR, Lamy C, Magrou L, Vezoli J,\n Misery P, Falchier A, Quilodran R, Gariel MA, Sallet J, Gamanut R,\n Huissoud C, Clavagnier S, Giroud P, Sappey-Marinier D, Barone P, Dehay C,\n Toroczkai Z, Knoblauch K, Van Essen DC, Kennedy H (2014) \"A weighted and\n directed interareal connectivity matrix for macaque cerebral cortex.\" Cereb\n Cortex 24(1):17-36. [doi 10.1093/cercor/bhs270]\n\n"
      ]
    },
    {
      "cell_type": "code",
      "execution_count": null,
      "metadata": {
        "collapsed": false
      },
      "outputs": [],
      "source": [
        "macaque_file_1 = download_file('macaque_1.x3d', astype='example_data')\nb_macaque_obj_1 = BrainObj(macaque_file_1, translucent=False)\nsc.add_to_subplot(b_macaque_obj_1, col=1,\n                  title='Macaque brain (Markov et al. 2014)')"
      ]
    },
    {
      "cell_type": "markdown",
      "metadata": {},
      "source": [
        "## Macaque brain (2)\n [1] Dubach MF, Bowden DM (2009) \"BrainInfo online 3D macaque brain atlas: a\n database in the shape of a brain\" Society for Neuroscience Annual Meeting,\n Chicago, IL Abstract No. 199.5.\n [2] Rohlfing T, Kroenke CD, Sullivan EV, Dubach MF, Bowden DM, Grant KA,\n Pfefferbaum A (2012) \"The INIA19 Template and NeuroMaps Atlas for Primate\n Brain Image Parcellation and Spatial Normalization.\" Frontiers in\n Neuroinformatics 6:27. [doi 10.3389/fninf.2012.00027]\n\n"
      ]
    },
    {
      "cell_type": "code",
      "execution_count": null,
      "metadata": {
        "collapsed": false
      },
      "outputs": [],
      "source": [
        "macaque_file_2 = download_file('macaque_2.x3d', astype='example_data')\nb_macaque_obj_2 = BrainObj(macaque_file_2, translucent=False)\nsc.add_to_subplot(b_macaque_obj_2, col=2,\n                  title=\"Macaque brain (Dubach et al. 2014),\\n(Rohlfing et al.\"\n                  \" 2012)\")"
      ]
    },
    {
      "cell_type": "markdown",
      "metadata": {},
      "source": [
        "## Mouse brain\n Lein ES, Hawrylycz MJ, Ao N, et al. (2007) \"Genome-wide atlas of gene\n expression in the adult mouse brain.\" Nature 445(7124):168-76.\n [doi 10.1038/nature05453]\n\n"
      ]
    },
    {
      "cell_type": "code",
      "execution_count": null,
      "metadata": {
        "collapsed": false
      },
      "outputs": [],
      "source": [
        "mouse_file = download_file('mouse.x3d', astype='example_data')\nb_mouse_obj = BrainObj(mouse_file, translucent=False)\nsc.add_to_subplot(b_mouse_obj, row=1, title='Mouse brain (Lein et al. 2007)')"
      ]
    },
    {
      "cell_type": "markdown",
      "metadata": {},
      "source": [
        "## Rat brain\n [1] Papp EA, Leergaard TB, Calabrese E, Johnson GA, Bjaalie JG (2014)\n \"Waxholm Space atlas of the Sprague Dawley rat brain\" NeuroImage 97:374-386.\n [doi 10.1016/j.neuroimage.2014.04.001]\n [2] Kjonigsen LJ, Lillehaug S, Bjaalie JG, Witter MP, Leergaard TB (2015)\n \"Waxholm Space atlas of the rat brain hippocampal region: Three-dimensional\n delineations based on magnetic resonance and diffusion tensor imaging.\"\n NeuroImage 108:441\u2013449. [doi 10.1016/j.neuroimage.2014.12.080]\n [3] Sergejeva M, Papp EA, Bakker R, Gaudnek MA, Okamura-Oho Y, Boline J,\n Bjaalie JG, Hess A (2015) \"Anatomical landmarks for registration of\n experimental image data to volumetric rodent brain atlasing templates.\"\n Journal of Neuroscience Methods 240:161-169.\n [doi 10.1016/j.jneumeth.2014.11.005]\n\n"
      ]
    },
    {
      "cell_type": "code",
      "execution_count": null,
      "metadata": {
        "collapsed": false
      },
      "outputs": [],
      "source": [
        "rat_file = download_file('rat.x3d', astype='example_data')\nb_rat_obj = BrainObj(rat_file, translucent=False)\nsc.add_to_subplot(b_rat_obj, row=1, col=1, zoom=.9,\n                  title=\"Rat brain (Papp et al. 2014),\\n(Kjonigsen et al. \"\n                  \"2015), (Sergejeva et al. 2015)\")"
      ]
    },
    {
      "cell_type": "markdown",
      "metadata": {},
      "source": [
        "## Human brain\n [1] Makris N, Goldstein JM, Kennedy D, Hodge SM, Caviness VS, Faraone SV,\n Tsuang MT, Seidman LJ (2006) \"Decreased volume of left and total anterior\n insular lobule in schizophrenia.\" Schizophr Res. 83(2-3):155-171.\n [doi 10.1016/j.schres.2005.11.020]\n [2] Frazier JA, Chiu S, Breeze JL, Makris N, Lange N, Kennedy DN, Herbert MR,\n Bent EK, Koneru VK, Dieterich ME, Hodge SM, Rauch SL, Grant PE, Cohen BM,\n Seidman LJ, Caviness VS, Biederman J (2005) \"Structural brain magnetic\n resonance imaging of limbic and thalamic volumes in pediatric bipolar\n disorder.\" Am J Psychiatry 162(7):1256-1265\n [3] Desikan RS, S\u00e9gonne F, Fischl B, Quinn BT, Dickerson BC, Blacker D,\n Buckner RL, Dale AM, Maguire RP, Hyman BT, Albert MS, Killiany RJ (2006)\n \"An automated labeling system for subdividing the human cerebral cortex on\n MRI scans into gyral based regions of interest.\" Neuroimage 31(3):968-980\n [4] Goldstein JM, Seidman LJ, Makris N, Ahern T, O'Brien LM, Caviness VS Jr,\n Kennedy DN, Faraone SV, Tsuang MT (2007) \"Hypothalamic abnormalities in\n schizophrenia: sex effects and genetic vulnerability.\" Biol Psychiatry\n 61(8):935-945\n\n"
      ]
    },
    {
      "cell_type": "code",
      "execution_count": null,
      "metadata": {
        "collapsed": false
      },
      "outputs": [],
      "source": [
        "human_file = download_file('human.x3d', astype='example_data')\nb_human_obj = BrainObj(human_file, translucent=False)\nsc.add_to_subplot(b_human_obj, row=1, col=2, zoom=.9,\n                  title=\"Human brain (Makris et al. 2006), (Frazier et al. \"\n                  \"2005),\\n(Desikan et al. 2006), (Goldstein et al. 2007)\")\n\nsc.preview()"
      ]
    }
  ],
  "metadata": {
    "kernelspec": {
      "display_name": "Python 3",
      "language": "python",
      "name": "python3"
    },
    "language_info": {
      "codemirror_mode": {
        "name": "ipython",
        "version": 3
      },
      "file_extension": ".py",
      "mimetype": "text/x-python",
      "name": "python",
      "nbconvert_exporter": "python",
      "pygments_lexer": "ipython3",
      "version": "3.13.2"
    }
  },
  "nbformat": 4,
  "nbformat_minor": 0
}