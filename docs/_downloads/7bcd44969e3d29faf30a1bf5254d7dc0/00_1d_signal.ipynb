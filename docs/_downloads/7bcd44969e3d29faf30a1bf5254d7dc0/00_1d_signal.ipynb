{
  "cells": [
    {
      "cell_type": "markdown",
      "metadata": {},
      "source": [
        "\n# Plot a 1D signal\n\nPlot a basic vector. Then, you can visualize this vector as a continuous line,\nmarkers, histogram or compute the time-frequency map or power spectrum density\n(PSD).\n\n\n## Shortcuts\n\n* Mouse wheel : to zoom over the canvas\n* Mouse press and hold : to move the center of the camera\n* Double click : insert an annotation under the mouse cursor\n* <delete> : reset the camera\n\n<img src=\"file://../../_static/examples/ex_1d_signal.png\">\n"
      ]
    },
    {
      "cell_type": "code",
      "execution_count": null,
      "metadata": {
        "collapsed": false
      },
      "outputs": [],
      "source": [
        "from visbrain.gui import Signal\nfrom visbrain.utils import generate_eeg\n\nsf = 512.  # sampling frequency\nn_pts = 4000  # number of time points\n\n\"\"\"Generate a random EEG vector of shape (n_pts,). Also get the associated\ntime vector with the same length as the data.\n\"\"\"\ndata, time = generate_eeg(sf=sf, n_pts=n_pts)\ntime += 8.  # force the time vector to start at 8 seconds\ntime *= 1000.  # millisecond conversion\n\n\"\"\"Add a label to the x-axis (xlabel), y-axis (ylabel) and a title\n\"\"\"\nxlabel = 'Time (ms)'\nylabel = 'Amplitude (uV)'\ntitle = 'Plot of a 1-d signal'\n\nSignal(data, sf=sf, time=time, xlabel=xlabel, ylabel=ylabel,\n       title=title).show()"
      ]
    }
  ],
  "metadata": {
    "kernelspec": {
      "display_name": "Python 3",
      "language": "python",
      "name": "python3"
    },
    "language_info": {
      "codemirror_mode": {
        "name": "ipython",
        "version": 3
      },
      "file_extension": ".py",
      "mimetype": "text/x-python",
      "name": "python",
      "nbconvert_exporter": "python",
      "pygments_lexer": "ipython3",
      "version": "3.13.2"
    }
  },
  "nbformat": 4,
  "nbformat_minor": 0
}