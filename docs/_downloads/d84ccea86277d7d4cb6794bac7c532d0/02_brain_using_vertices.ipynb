{
  "cells": [
    {
      "cell_type": "markdown",
      "metadata": {},
      "source": [
        "\n# Define a brain template using vertices and faces\n\nThis example illustrate how to define a custom brain template using your own\nvertices and faces.\n\n<img src=\"file://../../_static/examples/ex_add_brain_template.png\">\n"
      ]
    },
    {
      "cell_type": "code",
      "execution_count": null,
      "metadata": {
        "collapsed": false
      },
      "outputs": [],
      "source": [
        "import numpy as np\n\nfrom visbrain.gui import Brain\nfrom visbrain.objects import BrainObj\nfrom visbrain.io import download_file\n\n\"\"\"Download and the load the Custom.npz archive. This file contains vertices\nand faces of a brain template that is not integrated by default in Visbrain.\n\"\"\"\nmat = np.load(download_file('Custom.npz', astype='example_data'))\n\n\"\"\"Get vertices and faces from the archive.\n\nIn this examples, normals are also present in the archive. If you don't have\nthe normals, the BrainObj will compute it automatically.\n\"\"\"\nvert, faces, norms = mat['vertices'], mat['faces'], mat['normals']\n\n\"\"\"Define the brain object\n\"\"\"\nb_obj = BrainObj('Custom', vertices=vert, faces=faces, normals=norms)\n\n\"\"\"Then you have two strategies :\n* If you are going to use this template a lot and don't want to redefine it\n  every times, use `b_obj.save()`. Once the object saved, it can be reloaded\n  using its name only `BrainObj('Custom')`\n* If you only need it once, the template is temporaly saved and remove once the\n  GUI is closed.\n\"\"\"\n# b_obj.save()\n# b_obj = BrainObj('Custom')\n\n\"\"\"Define the GUI and pass the brain template\n\"\"\"\nvb = Brain(brain_obj=b_obj)\nvb.show()\n\n# If you want to remove the template :\n# b_obj.remove()"
      ]
    }
  ],
  "metadata": {
    "kernelspec": {
      "display_name": "Python 3",
      "language": "python",
      "name": "python3"
    },
    "language_info": {
      "codemirror_mode": {
        "name": "ipython",
        "version": 3
      },
      "file_extension": ".py",
      "mimetype": "text/x-python",
      "name": "python",
      "nbconvert_exporter": "python",
      "pygments_lexer": "ipython3",
      "version": "3.13.2"
    }
  },
  "nbformat": 4,
  "nbformat_minor": 0
}